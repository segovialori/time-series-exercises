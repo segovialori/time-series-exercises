{
 "cells": [
  {
   "cell_type": "markdown",
   "metadata": {},
   "source": [
    "# Acquire lesson"
   ]
  },
  {
   "cell_type": "code",
   "execution_count": 1,
   "metadata": {},
   "outputs": [],
   "source": [
    "import pandas as pd\n",
    "import requests "
   ]
  },
  {
   "cell_type": "code",
   "execution_count": 3,
   "metadata": {},
   "outputs": [
    {
     "data": {
      "text/plain": [
       "'<!DOCTYPE html>\\n<html lang=\"en\">\\n<head>\\n    <!-- Global site tag (gtag.js) - Google Analytics -->\\n    <script async src=\"https://www.googletagmanager.com/gtag/js?id=UA-164560583-1\"></script>\\n    <script>\\n      window.dataLayer = window.dataLayer || [];\\n      function gtag(){dataLayer.push(arguments);}\\n      gtag(\\'js\\', new Date());\\n\\n      gtag(\\'config\\', \\'UA-164560583-1\\');\\n    </script>\\n\\n    <meta charset=\"UTF-8\">\\n    <title>101Exercises.com</title>\\n    <meta name=\"description\" content=\"101 Exercises for learning and practicing Python and JavaScript fundamentals data-types, operators, and functions\">\\n    <meta name=\"keywords\" content=\"101 exercises, learn to code, JavaScript, Python, how to start programming, programming basics, programming fundamentals\">\\n    <meta name=\"author\" content=\"Ryan Orsinger\">\\n    <meta name=\"viewport\" content=\"width=device-width, initial-scale=1.0\">\\n    <link rel=\"icon\" type=\"image/png\" href=\"./img/101-hwy-sign.jpeg\">\\n    <link rel=\"stylesheet\" type=\"text/css\" href=\"site.css\">\\n\\n</head>\\n<body>\\n    <header>\\n        <h1>Welcome to 101Exercises.com</h1>\\n        <p>Solving these exercises will help make you a better programmer.</p>\\n    </header>\\n\\n    <main>\\n        <section id=\"js\">\\n            <a href=\"https://101-exercises.glitch.me\" target=\"_blank\">\\n                <h2>101 Exercises in JavaScript</h2>\\n                <img src=\"./img/js-logo.svg\" alt=\"JavaScript logo\" id=\"js-logo\">\\n            </a>\\n        </section>\\n        \\n        <section id=\"python\">\\n            <a href=\"https://colab.research.google.com/github/ryanorsinger/101-exercises/blob/main/101-exercises.ipynb\" target=\"_blank\">\\n                <h2>101 Exercises in Python</h2>\\n                <img src=\"./img/python-logo.svg\">\\n            </a>\\n        </section>\\n    </main>\\n\\n    <footer>\\n        <a href=\"https://github.com/ryanorsinger\" target=\"_blank\">by Ryan Orsinger</p></a>\\n    </footer>\\n</body>\\n</html>'"
      ]
     },
     "execution_count": 3,
     "metadata": {},
     "output_type": "execute_result"
    }
   ],
   "source": [
    "url = 'https://101exercises.com'\n",
    "response = requests.get(url)\n",
    "response.text"
   ]
  },
  {
   "cell_type": "code",
   "execution_count": 4,
   "metadata": {},
   "outputs": [],
   "source": [
    "response = requests.get('http://aphorisms.glitch.me/api/random')"
   ]
  },
  {
   "cell_type": "code",
   "execution_count": 5,
   "metadata": {},
   "outputs": [
    {
     "data": {
      "text/plain": [
       "{'quote': 'It is often easier to ask for forgiveness than to ask for permission.',\n",
       " 'author': 'Admiral Grace Hopper'}"
      ]
     },
     "execution_count": 5,
     "metadata": {},
     "output_type": "execute_result"
    }
   ],
   "source": [
    "#.json returns the parsed JSON from a response\n",
    "response.json()"
   ]
  },
  {
   "cell_type": "code",
   "execution_count": 6,
   "metadata": {},
   "outputs": [
    {
     "data": {
      "text/plain": [
       "dict"
      ]
     },
     "execution_count": 6,
     "metadata": {},
     "output_type": "execute_result"
    }
   ],
   "source": [
    "type(response.json())"
   ]
  },
  {
   "cell_type": "code",
   "execution_count": 7,
   "metadata": {},
   "outputs": [
    {
     "data": {
      "text/plain": [
       "str"
      ]
     },
     "execution_count": 7,
     "metadata": {},
     "output_type": "execute_result"
    }
   ],
   "source": [
    "type(response.text)"
   ]
  },
  {
   "cell_type": "code",
   "execution_count": 8,
   "metadata": {},
   "outputs": [],
   "source": [
    "response = requests.get(\"http://aphorisms.glitch.me/api/all\")\n",
    "quotes = pd.DataFrame(response.json())"
   ]
  },
  {
   "cell_type": "code",
   "execution_count": 9,
   "metadata": {},
   "outputs": [
    {
     "data": {
      "text/html": [
       "<div>\n",
       "<style scoped>\n",
       "    .dataframe tbody tr th:only-of-type {\n",
       "        vertical-align: middle;\n",
       "    }\n",
       "\n",
       "    .dataframe tbody tr th {\n",
       "        vertical-align: top;\n",
       "    }\n",
       "\n",
       "    .dataframe thead th {\n",
       "        text-align: right;\n",
       "    }\n",
       "</style>\n",
       "<table border=\"1\" class=\"dataframe\">\n",
       "  <thead>\n",
       "    <tr style=\"text-align: right;\">\n",
       "      <th></th>\n",
       "      <th>quote</th>\n",
       "      <th>author</th>\n",
       "      <th>name</th>\n",
       "    </tr>\n",
       "  </thead>\n",
       "  <tbody>\n",
       "    <tr>\n",
       "      <th>0</th>\n",
       "      <td>To go fast, go alone. To go far, go together</td>\n",
       "      <td>African Proverb</td>\n",
       "      <td>NaN</td>\n",
       "    </tr>\n",
       "    <tr>\n",
       "      <th>1</th>\n",
       "      <td>In fact, the only way to manage stress is to b...</td>\n",
       "      <td>anomymous</td>\n",
       "      <td>NaN</td>\n",
       "    </tr>\n",
       "    <tr>\n",
       "      <th>2</th>\n",
       "      <td>Predispose yourself to practice</td>\n",
       "      <td>anonymous</td>\n",
       "      <td>NaN</td>\n",
       "    </tr>\n",
       "    <tr>\n",
       "      <th>3</th>\n",
       "      <td>Respect the specs</td>\n",
       "      <td>Dr. Linda F. Wilson</td>\n",
       "      <td>NaN</td>\n",
       "    </tr>\n",
       "    <tr>\n",
       "      <th>4</th>\n",
       "      <td>What we're doing is paint along with me rather...</td>\n",
       "      <td>Zach Gulde</td>\n",
       "      <td>NaN</td>\n",
       "    </tr>\n",
       "  </tbody>\n",
       "</table>\n",
       "</div>"
      ],
      "text/plain": [
       "                                               quote               author name\n",
       "0       To go fast, go alone. To go far, go together      African Proverb  NaN\n",
       "1  In fact, the only way to manage stress is to b...            anomymous  NaN\n",
       "2                    Predispose yourself to practice            anonymous  NaN\n",
       "3                                  Respect the specs  Dr. Linda F. Wilson  NaN\n",
       "4  What we're doing is paint along with me rather...           Zach Gulde  NaN"
      ]
     },
     "execution_count": 9,
     "metadata": {},
     "output_type": "execute_result"
    }
   ],
   "source": [
    "\n",
    "quotes.head()"
   ]
  },
  {
   "cell_type": "code",
   "execution_count": 13,
   "metadata": {},
   "outputs": [
    {
     "data": {
      "text/plain": [
       "{'name': 'Star Destroyer',\n",
       " 'model': 'Imperial I-class Star Destroyer',\n",
       " 'manufacturer': 'Kuat Drive Yards',\n",
       " 'cost_in_credits': '150000000',\n",
       " 'length': '1,600',\n",
       " 'max_atmosphering_speed': '975',\n",
       " 'crew': '47,060',\n",
       " 'passengers': 'n/a',\n",
       " 'cargo_capacity': '36000000',\n",
       " 'consumables': '2 years',\n",
       " 'hyperdrive_rating': '2.0',\n",
       " 'MGLT': '60',\n",
       " 'starship_class': 'Star Destroyer',\n",
       " 'pilots': [],\n",
       " 'films': ['http://swapi.dev/api/films/1/',\n",
       "  'http://swapi.dev/api/films/2/',\n",
       "  'http://swapi.dev/api/films/3/'],\n",
       " 'created': '2014-12-10T15:08:19.848000Z',\n",
       " 'edited': '2014-12-20T21:23:49.870000Z',\n",
       " 'url': 'http://swapi.dev/api/starships/3/'}"
      ]
     },
     "execution_count": 13,
     "metadata": {},
     "output_type": "execute_result"
    }
   ],
   "source": [
    "response = requests.get(\"https://swapi.dev/api/starships/3/\")\n",
    "response.json()"
   ]
  },
  {
   "cell_type": "code",
   "execution_count": 14,
   "metadata": {},
   "outputs": [],
   "source": [
    "url = response.json()[\"films\"][0]\n",
    "response1 = requests.get(url)\n",
    "data1 = response1.json()"
   ]
  },
  {
   "cell_type": "code",
   "execution_count": 15,
   "metadata": {},
   "outputs": [
    {
     "data": {
      "text/plain": [
       "{'title': 'A New Hope',\n",
       " 'episode_id': 4,\n",
       " 'opening_crawl': \"It is a period of civil war.\\r\\nRebel spaceships, striking\\r\\nfrom a hidden base, have won\\r\\ntheir first victory against\\r\\nthe evil Galactic Empire.\\r\\n\\r\\nDuring the battle, Rebel\\r\\nspies managed to steal secret\\r\\nplans to the Empire's\\r\\nultimate weapon, the DEATH\\r\\nSTAR, an armored space\\r\\nstation with enough power\\r\\nto destroy an entire planet.\\r\\n\\r\\nPursued by the Empire's\\r\\nsinister agents, Princess\\r\\nLeia races home aboard her\\r\\nstarship, custodian of the\\r\\nstolen plans that can save her\\r\\npeople and restore\\r\\nfreedom to the galaxy....\",\n",
       " 'director': 'George Lucas',\n",
       " 'producer': 'Gary Kurtz, Rick McCallum',\n",
       " 'release_date': '1977-05-25',\n",
       " 'characters': ['http://swapi.dev/api/people/1/',\n",
       "  'http://swapi.dev/api/people/2/',\n",
       "  'http://swapi.dev/api/people/3/',\n",
       "  'http://swapi.dev/api/people/4/',\n",
       "  'http://swapi.dev/api/people/5/',\n",
       "  'http://swapi.dev/api/people/6/',\n",
       "  'http://swapi.dev/api/people/7/',\n",
       "  'http://swapi.dev/api/people/8/',\n",
       "  'http://swapi.dev/api/people/9/',\n",
       "  'http://swapi.dev/api/people/10/',\n",
       "  'http://swapi.dev/api/people/12/',\n",
       "  'http://swapi.dev/api/people/13/',\n",
       "  'http://swapi.dev/api/people/14/',\n",
       "  'http://swapi.dev/api/people/15/',\n",
       "  'http://swapi.dev/api/people/16/',\n",
       "  'http://swapi.dev/api/people/18/',\n",
       "  'http://swapi.dev/api/people/19/',\n",
       "  'http://swapi.dev/api/people/81/'],\n",
       " 'planets': ['http://swapi.dev/api/planets/1/',\n",
       "  'http://swapi.dev/api/planets/2/',\n",
       "  'http://swapi.dev/api/planets/3/'],\n",
       " 'starships': ['http://swapi.dev/api/starships/2/',\n",
       "  'http://swapi.dev/api/starships/3/',\n",
       "  'http://swapi.dev/api/starships/5/',\n",
       "  'http://swapi.dev/api/starships/9/',\n",
       "  'http://swapi.dev/api/starships/10/',\n",
       "  'http://swapi.dev/api/starships/11/',\n",
       "  'http://swapi.dev/api/starships/12/',\n",
       "  'http://swapi.dev/api/starships/13/'],\n",
       " 'vehicles': ['http://swapi.dev/api/vehicles/4/',\n",
       "  'http://swapi.dev/api/vehicles/6/',\n",
       "  'http://swapi.dev/api/vehicles/7/',\n",
       "  'http://swapi.dev/api/vehicles/8/'],\n",
       " 'species': ['http://swapi.dev/api/species/1/',\n",
       "  'http://swapi.dev/api/species/2/',\n",
       "  'http://swapi.dev/api/species/3/',\n",
       "  'http://swapi.dev/api/species/4/',\n",
       "  'http://swapi.dev/api/species/5/'],\n",
       " 'created': '2014-12-10T14:23:31.880000Z',\n",
       " 'edited': '2014-12-20T19:49:45.256000Z',\n",
       " 'url': 'http://swapi.dev/api/films/1/'}"
      ]
     },
     "execution_count": 15,
     "metadata": {},
     "output_type": "execute_result"
    }
   ],
   "source": [
    "data1"
   ]
  },
  {
   "cell_type": "code",
   "execution_count": 19,
   "metadata": {},
   "outputs": [
    {
     "data": {
      "text/plain": [
       "{'name': 'Luke Skywalker',\n",
       " 'height': '172',\n",
       " 'mass': '77',\n",
       " 'hair_color': 'blond',\n",
       " 'skin_color': 'fair',\n",
       " 'eye_color': 'blue',\n",
       " 'birth_year': '19BBY',\n",
       " 'gender': 'male',\n",
       " 'homeworld': 'http://swapi.dev/api/planets/1/',\n",
       " 'films': ['http://swapi.dev/api/films/1/',\n",
       "  'http://swapi.dev/api/films/2/',\n",
       "  'http://swapi.dev/api/films/3/',\n",
       "  'http://swapi.dev/api/films/6/'],\n",
       " 'species': [],\n",
       " 'vehicles': ['http://swapi.dev/api/vehicles/14/',\n",
       "  'http://swapi.dev/api/vehicles/30/'],\n",
       " 'starships': ['http://swapi.dev/api/starships/12/',\n",
       "  'http://swapi.dev/api/starships/22/'],\n",
       " 'created': '2014-12-09T13:50:51.644000Z',\n",
       " 'edited': '2014-12-20T21:17:56.891000Z',\n",
       " 'url': 'http://swapi.dev/api/people/1/'}"
      ]
     },
     "execution_count": 19,
     "metadata": {},
     "output_type": "execute_result"
    }
   ],
   "source": [
    "url = data1['characters'][0]\n",
    "response2 = requests.get(url)\n",
    "data2 = response2.json()\n",
    "data2"
   ]
  },
  {
   "cell_type": "code",
   "execution_count": 20,
   "metadata": {},
   "outputs": [
    {
     "data": {
      "text/plain": [
       "{'api': '/api/v1', 'help': '/documentation'}"
      ]
     },
     "execution_count": 20,
     "metadata": {},
     "output_type": "execute_result"
    }
   ],
   "source": [
    "base_url = 'https://python.zach.lol'\n",
    "response = requests.get(base_url)\n",
    "response.json()"
   ]
  },
  {
   "cell_type": "code",
   "execution_count": 21,
   "metadata": {},
   "outputs": [
    {
     "name": "stdout",
     "output_type": "stream",
     "text": [
      "\n",
      "The API accepts GET requests for all endpoints, where endpoints are prefixed\n",
      "with\n",
      "\n",
      "    /api/{version}\n",
      "\n",
      "Where version is \"v1\"\n",
      "\n",
      "Valid endpoints:\n",
      "\n",
      "- /stores[/{store_id}]\n",
      "- /items[/{item_id}]\n",
      "- /sales[/{sale_id}]\n",
      "\n",
      "All endpoints accept a `page` parameter that can be used to navigate through\n",
      "the results.\n",
      "\n"
     ]
    }
   ],
   "source": [
    "response = requests.get(base_url + \"/documentation\")\n",
    "print(response.json()[\"payload\"])"
   ]
  },
  {
   "cell_type": "code",
   "execution_count": 22,
   "metadata": {},
   "outputs": [],
   "source": [
    "base_url =  \"https://python.zach.lol/api/v1\""
   ]
  },
  {
   "cell_type": "code",
   "execution_count": 23,
   "metadata": {},
   "outputs": [
    {
     "data": {
      "text/plain": [
       "{'payload': {'max_page': 1,\n",
       "  'next_page': None,\n",
       "  'page': 1,\n",
       "  'previous_page': None,\n",
       "  'stores': [{'store_address': '12125 Alamo Ranch Pkwy',\n",
       "    'store_city': 'San Antonio',\n",
       "    'store_id': 1,\n",
       "    'store_state': 'TX',\n",
       "    'store_zipcode': '78253'},\n",
       "   {'store_address': '9255 FM 471 West',\n",
       "    'store_city': 'San Antonio',\n",
       "    'store_id': 2,\n",
       "    'store_state': 'TX',\n",
       "    'store_zipcode': '78251'},\n",
       "   {'store_address': '2118 Fredericksburg Rdj',\n",
       "    'store_city': 'San Antonio',\n",
       "    'store_id': 3,\n",
       "    'store_state': 'TX',\n",
       "    'store_zipcode': '78201'},\n",
       "   {'store_address': '516 S Flores St',\n",
       "    'store_city': 'San Antonio',\n",
       "    'store_id': 4,\n",
       "    'store_state': 'TX',\n",
       "    'store_zipcode': '78204'},\n",
       "   {'store_address': '1520 Austin Hwy',\n",
       "    'store_city': 'San Antonio',\n",
       "    'store_id': 5,\n",
       "    'store_state': 'TX',\n",
       "    'store_zipcode': '78218'},\n",
       "   {'store_address': '1015 S WW White Rd',\n",
       "    'store_city': 'San Antonio',\n",
       "    'store_id': 6,\n",
       "    'store_state': 'TX',\n",
       "    'store_zipcode': '78220'},\n",
       "   {'store_address': '12018 Perrin Beitel Rd',\n",
       "    'store_city': 'San Antonio',\n",
       "    'store_id': 7,\n",
       "    'store_state': 'TX',\n",
       "    'store_zipcode': '78217'},\n",
       "   {'store_address': '15000 San Pedro Ave',\n",
       "    'store_city': 'San Antonio',\n",
       "    'store_id': 8,\n",
       "    'store_state': 'TX',\n",
       "    'store_zipcode': '78232'},\n",
       "   {'store_address': '735 SW Military Dr',\n",
       "    'store_city': 'San Antonio',\n",
       "    'store_id': 9,\n",
       "    'store_state': 'TX',\n",
       "    'store_zipcode': '78221'},\n",
       "   {'store_address': '8503 NW Military Hwy',\n",
       "    'store_city': 'San Antonio',\n",
       "    'store_id': 10,\n",
       "    'store_state': 'TX',\n",
       "    'store_zipcode': '78231'}]},\n",
       " 'status': 'ok'}"
      ]
     },
     "execution_count": 23,
     "metadata": {},
     "output_type": "execute_result"
    }
   ],
   "source": [
    "stores_response = requests.get(base_url + \"/stores\")\n",
    "stores_response.json()"
   ]
  },
  {
   "cell_type": "code",
   "execution_count": 25,
   "metadata": {},
   "outputs": [],
   "source": [
    "stores_payload = stores_response.json()['payload']"
   ]
  },
  {
   "cell_type": "code",
   "execution_count": 27,
   "metadata": {},
   "outputs": [
    {
     "data": {
      "text/plain": [
       "{'items': [{'item_brand': 'Riceland',\n",
       "   'item_id': 1,\n",
       "   'item_name': 'Riceland American Jazmine Rice',\n",
       "   'item_price': 0.84,\n",
       "   'item_upc12': '35200264013',\n",
       "   'item_upc14': '35200264013'},\n",
       "  {'item_brand': 'Caress',\n",
       "   'item_id': 2,\n",
       "   'item_name': 'Caress Velvet Bliss Ultra Silkening Beauty Bar - 6 Ct',\n",
       "   'item_price': 6.44,\n",
       "   'item_upc12': '11111065925',\n",
       "   'item_upc14': '11111065925'},\n",
       "  {'item_brand': 'Earths Best',\n",
       "   'item_id': 3,\n",
       "   'item_name': 'Earths Best Organic Fruit Yogurt Smoothie Mixed Berry',\n",
       "   'item_price': 2.43,\n",
       "   'item_upc12': '23923330139',\n",
       "   'item_upc14': '23923330139'},\n",
       "  {'item_brand': 'Boars Head',\n",
       "   'item_id': 4,\n",
       "   'item_name': 'Boars Head Sliced White American Cheese - 120 Ct',\n",
       "   'item_price': 3.14,\n",
       "   'item_upc12': '208528800007',\n",
       "   'item_upc14': '208528800007'},\n",
       "  {'item_brand': 'Back To Nature',\n",
       "   'item_id': 5,\n",
       "   'item_name': 'Back To Nature Gluten Free White Cheddar Rice Thin Crackers',\n",
       "   'item_price': 2.61,\n",
       "   'item_upc12': '759283100036',\n",
       "   'item_upc14': '759283100036'},\n",
       "  {'item_brand': 'Sally Hansen',\n",
       "   'item_id': 6,\n",
       "   'item_name': 'Sally Hansen Nail Color Magnetic 903 Silver Elements',\n",
       "   'item_price': 6.93,\n",
       "   'item_upc12': '74170388732',\n",
       "   'item_upc14': '74170388732'},\n",
       "  {'item_brand': 'Twinings Of London',\n",
       "   'item_id': 7,\n",
       "   'item_name': 'Twinings Of London Classics Lady Grey Tea - 20 Ct',\n",
       "   'item_price': 9.64,\n",
       "   'item_upc12': '70177154004',\n",
       "   'item_upc14': '70177154004'},\n",
       "  {'item_brand': 'Lea & Perrins',\n",
       "   'item_id': 8,\n",
       "   'item_name': 'Lea & Perrins Marinade In-a-bag Cracked Peppercorn',\n",
       "   'item_price': 1.68,\n",
       "   'item_upc12': '51600080015',\n",
       "   'item_upc14': '51600080015'},\n",
       "  {'item_brand': 'Van De Kamps',\n",
       "   'item_id': 9,\n",
       "   'item_name': 'Van De Kamps Fillets Beer Battered - 10 Ct',\n",
       "   'item_price': 1.79,\n",
       "   'item_upc12': '19600923015',\n",
       "   'item_upc14': '19600923015'},\n",
       "  {'item_brand': 'Ahold',\n",
       "   'item_id': 10,\n",
       "   'item_name': 'Ahold Cocoa Almonds',\n",
       "   'item_price': 3.17,\n",
       "   'item_upc12': '688267141676',\n",
       "   'item_upc14': '688267141676'},\n",
       "  {'item_brand': 'Honest Tea',\n",
       "   'item_id': 11,\n",
       "   'item_name': 'Honest Tea Peach White Tea',\n",
       "   'item_price': 3.93,\n",
       "   'item_upc12': '657622604842',\n",
       "   'item_upc14': '657622604842'},\n",
       "  {'item_brand': 'Mueller',\n",
       "   'item_id': 12,\n",
       "   'item_name': 'Mueller Sport Care Basic Support Level Medium Elastic Knee Support',\n",
       "   'item_price': 8.4,\n",
       "   'item_upc12': '74676640211',\n",
       "   'item_upc14': '74676640211'},\n",
       "  {'item_brand': 'Garnier Nutritioniste',\n",
       "   'item_id': 13,\n",
       "   'item_name': 'Garnier Nutritioniste Moisture Rescue Fresh Cleansing Foam',\n",
       "   'item_price': 6.47,\n",
       "   'item_upc12': '603084234561',\n",
       "   'item_upc14': '603084234561'},\n",
       "  {'item_brand': 'Pamprin',\n",
       "   'item_id': 14,\n",
       "   'item_name': 'Pamprin Maximum Strength Multi-symptom Menstrual Pain Relief',\n",
       "   'item_price': 7.54,\n",
       "   'item_upc12': '41167300121',\n",
       "   'item_upc14': '41167300121'},\n",
       "  {'item_brand': 'Suave',\n",
       "   'item_id': 15,\n",
       "   'item_name': 'Suave Naturals Moisturizing Body Wash Creamy Tropical Coconut',\n",
       "   'item_price': 9.11,\n",
       "   'item_upc12': '79400847201',\n",
       "   'item_upc14': '79400847201'},\n",
       "  {'item_brand': 'Burts Bees',\n",
       "   'item_id': 16,\n",
       "   'item_name': 'Burts Bees Daily Moisturizing Cream Sensitive',\n",
       "   'item_price': 5.17,\n",
       "   'item_upc12': '792850014008',\n",
       "   'item_upc14': '792850014008'},\n",
       "  {'item_brand': 'Ducal',\n",
       "   'item_id': 17,\n",
       "   'item_name': 'Ducal Refried Red Beans',\n",
       "   'item_price': 1.16,\n",
       "   'item_upc12': '88313590791',\n",
       "   'item_upc14': '88313590791'},\n",
       "  {'item_brand': 'Scotch',\n",
       "   'item_id': 18,\n",
       "   'item_name': 'Scotch Removable Clear Mounting Squares - 35 Ct',\n",
       "   'item_price': 4.39,\n",
       "   'item_upc12': '21200725340',\n",
       "   'item_upc14': '21200725340'},\n",
       "  {'item_brand': 'Careone',\n",
       "   'item_id': 19,\n",
       "   'item_name': 'Careone Family Comb Set - 8 Ct',\n",
       "   'item_price': 0.74,\n",
       "   'item_upc12': '41520035646',\n",
       "   'item_upc14': '41520035646'},\n",
       "  {'item_brand': 'Usda Produce',\n",
       "   'item_id': 20,\n",
       "   'item_name': 'Plums Black',\n",
       "   'item_price': 5.62,\n",
       "   'item_upc12': '204040000000',\n",
       "   'item_upc14': '204040000000'}],\n",
       " 'max_page': 3,\n",
       " 'next_page': '/api/v1/items?page=2',\n",
       " 'page': 1,\n",
       " 'previous_page': None}"
      ]
     },
     "execution_count": 27,
     "metadata": {},
     "output_type": "execute_result"
    }
   ],
   "source": [
    "items_response = requests.get(base_url + \"/items\")\n",
    "items_payload = items_response.json()['payload']\n",
    "items_payload"
   ]
  },
  {
   "cell_type": "code",
   "execution_count": 28,
   "metadata": {},
   "outputs": [
    {
     "data": {
      "text/plain": [
       "dict_keys(['items', 'max_page', 'next_page', 'page', 'previous_page'])"
      ]
     },
     "execution_count": 28,
     "metadata": {},
     "output_type": "execute_result"
    }
   ],
   "source": [
    "items_payload.keys()"
   ]
  },
  {
   "cell_type": "code",
   "execution_count": 30,
   "metadata": {},
   "outputs": [
    {
     "data": {
      "text/plain": [
       "[{'item_brand': 'Riceland',\n",
       "  'item_id': 1,\n",
       "  'item_name': 'Riceland American Jazmine Rice',\n",
       "  'item_price': 0.84,\n",
       "  'item_upc12': '35200264013',\n",
       "  'item_upc14': '35200264013'},\n",
       " {'item_brand': 'Caress',\n",
       "  'item_id': 2,\n",
       "  'item_name': 'Caress Velvet Bliss Ultra Silkening Beauty Bar - 6 Ct',\n",
       "  'item_price': 6.44,\n",
       "  'item_upc12': '11111065925',\n",
       "  'item_upc14': '11111065925'},\n",
       " {'item_brand': 'Earths Best',\n",
       "  'item_id': 3,\n",
       "  'item_name': 'Earths Best Organic Fruit Yogurt Smoothie Mixed Berry',\n",
       "  'item_price': 2.43,\n",
       "  'item_upc12': '23923330139',\n",
       "  'item_upc14': '23923330139'},\n",
       " {'item_brand': 'Boars Head',\n",
       "  'item_id': 4,\n",
       "  'item_name': 'Boars Head Sliced White American Cheese - 120 Ct',\n",
       "  'item_price': 3.14,\n",
       "  'item_upc12': '208528800007',\n",
       "  'item_upc14': '208528800007'},\n",
       " {'item_brand': 'Back To Nature',\n",
       "  'item_id': 5,\n",
       "  'item_name': 'Back To Nature Gluten Free White Cheddar Rice Thin Crackers',\n",
       "  'item_price': 2.61,\n",
       "  'item_upc12': '759283100036',\n",
       "  'item_upc14': '759283100036'},\n",
       " {'item_brand': 'Sally Hansen',\n",
       "  'item_id': 6,\n",
       "  'item_name': 'Sally Hansen Nail Color Magnetic 903 Silver Elements',\n",
       "  'item_price': 6.93,\n",
       "  'item_upc12': '74170388732',\n",
       "  'item_upc14': '74170388732'},\n",
       " {'item_brand': 'Twinings Of London',\n",
       "  'item_id': 7,\n",
       "  'item_name': 'Twinings Of London Classics Lady Grey Tea - 20 Ct',\n",
       "  'item_price': 9.64,\n",
       "  'item_upc12': '70177154004',\n",
       "  'item_upc14': '70177154004'},\n",
       " {'item_brand': 'Lea & Perrins',\n",
       "  'item_id': 8,\n",
       "  'item_name': 'Lea & Perrins Marinade In-a-bag Cracked Peppercorn',\n",
       "  'item_price': 1.68,\n",
       "  'item_upc12': '51600080015',\n",
       "  'item_upc14': '51600080015'},\n",
       " {'item_brand': 'Van De Kamps',\n",
       "  'item_id': 9,\n",
       "  'item_name': 'Van De Kamps Fillets Beer Battered - 10 Ct',\n",
       "  'item_price': 1.79,\n",
       "  'item_upc12': '19600923015',\n",
       "  'item_upc14': '19600923015'},\n",
       " {'item_brand': 'Ahold',\n",
       "  'item_id': 10,\n",
       "  'item_name': 'Ahold Cocoa Almonds',\n",
       "  'item_price': 3.17,\n",
       "  'item_upc12': '688267141676',\n",
       "  'item_upc14': '688267141676'},\n",
       " {'item_brand': 'Honest Tea',\n",
       "  'item_id': 11,\n",
       "  'item_name': 'Honest Tea Peach White Tea',\n",
       "  'item_price': 3.93,\n",
       "  'item_upc12': '657622604842',\n",
       "  'item_upc14': '657622604842'},\n",
       " {'item_brand': 'Mueller',\n",
       "  'item_id': 12,\n",
       "  'item_name': 'Mueller Sport Care Basic Support Level Medium Elastic Knee Support',\n",
       "  'item_price': 8.4,\n",
       "  'item_upc12': '74676640211',\n",
       "  'item_upc14': '74676640211'},\n",
       " {'item_brand': 'Garnier Nutritioniste',\n",
       "  'item_id': 13,\n",
       "  'item_name': 'Garnier Nutritioniste Moisture Rescue Fresh Cleansing Foam',\n",
       "  'item_price': 6.47,\n",
       "  'item_upc12': '603084234561',\n",
       "  'item_upc14': '603084234561'},\n",
       " {'item_brand': 'Pamprin',\n",
       "  'item_id': 14,\n",
       "  'item_name': 'Pamprin Maximum Strength Multi-symptom Menstrual Pain Relief',\n",
       "  'item_price': 7.54,\n",
       "  'item_upc12': '41167300121',\n",
       "  'item_upc14': '41167300121'},\n",
       " {'item_brand': 'Suave',\n",
       "  'item_id': 15,\n",
       "  'item_name': 'Suave Naturals Moisturizing Body Wash Creamy Tropical Coconut',\n",
       "  'item_price': 9.11,\n",
       "  'item_upc12': '79400847201',\n",
       "  'item_upc14': '79400847201'},\n",
       " {'item_brand': 'Burts Bees',\n",
       "  'item_id': 16,\n",
       "  'item_name': 'Burts Bees Daily Moisturizing Cream Sensitive',\n",
       "  'item_price': 5.17,\n",
       "  'item_upc12': '792850014008',\n",
       "  'item_upc14': '792850014008'},\n",
       " {'item_brand': 'Ducal',\n",
       "  'item_id': 17,\n",
       "  'item_name': 'Ducal Refried Red Beans',\n",
       "  'item_price': 1.16,\n",
       "  'item_upc12': '88313590791',\n",
       "  'item_upc14': '88313590791'},\n",
       " {'item_brand': 'Scotch',\n",
       "  'item_id': 18,\n",
       "  'item_name': 'Scotch Removable Clear Mounting Squares - 35 Ct',\n",
       "  'item_price': 4.39,\n",
       "  'item_upc12': '21200725340',\n",
       "  'item_upc14': '21200725340'},\n",
       " {'item_brand': 'Careone',\n",
       "  'item_id': 19,\n",
       "  'item_name': 'Careone Family Comb Set - 8 Ct',\n",
       "  'item_price': 0.74,\n",
       "  'item_upc12': '41520035646',\n",
       "  'item_upc14': '41520035646'},\n",
       " {'item_brand': 'Usda Produce',\n",
       "  'item_id': 20,\n",
       "  'item_name': 'Plums Black',\n",
       "  'item_price': 5.62,\n",
       "  'item_upc12': '204040000000',\n",
       "  'item_upc14': '204040000000'}]"
      ]
     },
     "execution_count": 30,
     "metadata": {},
     "output_type": "execute_result"
    }
   ],
   "source": [
    "first_page_of_items = items_payload['items']\n",
    "first_page_of_items"
   ]
  },
  {
   "cell_type": "code",
   "execution_count": 31,
   "metadata": {},
   "outputs": [
    {
     "data": {
      "text/plain": [
       "'/api/v1/items?page=2'"
      ]
     },
     "execution_count": 31,
     "metadata": {},
     "output_type": "execute_result"
    }
   ],
   "source": [
    "items_payload['next_page']"
   ]
  },
  {
   "cell_type": "code",
   "execution_count": 32,
   "metadata": {},
   "outputs": [
    {
     "data": {
      "text/plain": [
       "'/api/v1/items?page=2'"
      ]
     },
     "execution_count": 32,
     "metadata": {},
     "output_type": "execute_result"
    }
   ],
   "source": [
    "endpoint_for_second_page = items_payload['next_page']\n",
    "endpoint_for_second_page"
   ]
  },
  {
   "cell_type": "code",
   "execution_count": 35,
   "metadata": {},
   "outputs": [
    {
     "data": {
      "text/plain": [
       "[{'item_brand': 'Doctors Best',\n",
       "  'item_id': 21,\n",
       "  'item_name': 'Doctors Best Best Curcumin C3 Complex 1000mg Tablets - 120 Ct',\n",
       "  'item_price': 8.09,\n",
       "  'item_upc12': '753950001954',\n",
       "  'item_upc14': '753950001954'},\n",
       " {'item_brand': 'Betty Crocker',\n",
       "  'item_id': 22,\n",
       "  'item_name': 'Betty Crocker Twin Pack Real Potatoes Scalloped 2 Pouches For 2 Meals - 2 Pk',\n",
       "  'item_price': 7.31,\n",
       "  'item_upc12': '16000288829',\n",
       "  'item_upc14': '16000288829'},\n",
       " {'item_brand': 'Reese',\n",
       "  'item_id': 23,\n",
       "  'item_name': 'Reese Mandarin Oranges Segments In Light Syrup',\n",
       "  'item_price': 1.78,\n",
       "  'item_upc12': '70670009658',\n",
       "  'item_upc14': '70670009658'},\n",
       " {'item_brand': 'Smart Living',\n",
       "  'item_id': 24,\n",
       "  'item_name': 'Smart Living Charcoal Lighter Fluid',\n",
       "  'item_price': 5.34,\n",
       "  'item_upc12': '688267084225',\n",
       "  'item_upc14': '688267084225'},\n",
       " {'item_brand': 'Hood',\n",
       "  'item_id': 25,\n",
       "  'item_name': 'Hood Latte Iced Coffee Drink Vanilla Latte',\n",
       "  'item_price': 2.43,\n",
       "  'item_upc12': '44100117428',\n",
       "  'item_upc14': '44100117428'},\n",
       " {'item_brand': 'Triaminic',\n",
       "  'item_id': 26,\n",
       "  'item_name': 'Triaminic Syrup Night Time Cold & Cough Grape 4oz',\n",
       "  'item_price': 0.98,\n",
       "  'item_upc12': '300436344045',\n",
       "  'item_upc14': '300436344045'},\n",
       " {'item_brand': 'Morton',\n",
       "  'item_id': 27,\n",
       "  'item_name': 'Morton Kosher Salt Coarse',\n",
       "  'item_price': 6.01,\n",
       "  'item_upc12': '24600017008',\n",
       "  'item_upc14': '24600017008'},\n",
       " {'item_brand': 'Usda Produce',\n",
       "  'item_id': 28,\n",
       "  'item_name': 'Guava',\n",
       "  'item_price': 7.52,\n",
       "  'item_upc12': '719175900007',\n",
       "  'item_upc14': '719175900007'},\n",
       " {'item_brand': 'Heinz',\n",
       "  'item_id': 29,\n",
       "  'item_name': 'Heinz Tomato Ketchup - 2 Ct',\n",
       "  'item_price': 8.65,\n",
       "  'item_upc12': '13000001038',\n",
       "  'item_upc14': '13000001038'},\n",
       " {'item_brand': 'Petmate',\n",
       "  'item_id': 30,\n",
       "  'item_name': 'Petmate Booda Bones Steak Bacon & Chicken Flavors - 9 Ct',\n",
       "  'item_price': 8.39,\n",
       "  'item_upc12': '723503568678',\n",
       "  'item_upc14': '723503568678'},\n",
       " {'item_brand': 'Zhenas Gypsy Tea',\n",
       "  'item_id': 31,\n",
       "  'item_name': 'Zhenas Gypsy Tea Herbal Red Tea Sachets Fire Light Chai - 22 Ct',\n",
       "  'item_price': 4.21,\n",
       "  'item_upc12': '652790100226',\n",
       "  'item_upc14': '652790100226'},\n",
       " {'item_brand': 'Barefoot',\n",
       "  'item_id': 32,\n",
       "  'item_name': 'Barefoot Pinot Grigio  187',\n",
       "  'item_price': 0.68,\n",
       "  'item_upc12': '8500004528',\n",
       "  'item_upc14': '8500004528'},\n",
       " {'item_brand': 'The First Years',\n",
       "  'item_id': 33,\n",
       "  'item_name': 'Tomy The First Years Gumdrop Orthodontic Pacifiers 6m+ - 2ct',\n",
       "  'item_price': 6.52,\n",
       "  'item_upc12': '71463060078',\n",
       "  'item_upc14': '71463060078'},\n",
       " {'item_brand': 'Halls',\n",
       "  'item_id': 34,\n",
       "  'item_name': 'Halls Menthol Cough Suppresant/oral Anesthetic Drops Honey-lemon - 30 Ct',\n",
       "  'item_price': 4.17,\n",
       "  'item_upc12': '312546628694',\n",
       "  'item_upc14': '312546628694'},\n",
       " {'item_brand': 'Natures Way',\n",
       "  'item_id': 35,\n",
       "  'item_name': 'Natures Way Forskohlii - 60 Ct',\n",
       "  'item_price': 5.19,\n",
       "  'item_upc12': '33674100066',\n",
       "  'item_upc14': '33674100066'},\n",
       " {'item_brand': 'Deerfields Gluten Free',\n",
       "  'item_id': 36,\n",
       "  'item_name': 'Rice Bran Gluten Free Dinner Rolls Plain',\n",
       "  'item_price': 7.95,\n",
       "  'item_upc12': '610358991525',\n",
       "  'item_upc14': '610358991525'},\n",
       " {'item_brand': 'Nakano',\n",
       "  'item_id': 37,\n",
       "  'item_name': 'Nakano Seasoned Rice Vinegar Original',\n",
       "  'item_price': 9.59,\n",
       "  'item_upc12': '73575295003',\n",
       "  'item_upc14': '73575295003'},\n",
       " {'item_brand': 'Sundown Naturals',\n",
       "  'item_id': 38,\n",
       "  'item_name': 'Sundown Naturals Essential Electrolytes Tropical Punch Watermelon And Fruit Punch Gummies - 60 Ct',\n",
       "  'item_price': 3.45,\n",
       "  'item_upc12': '30768540548',\n",
       "  'item_upc14': '30768540548'},\n",
       " {'item_brand': 'Munchies',\n",
       "  'item_id': 39,\n",
       "  'item_name': 'Munchies Sandwich Crackers Cheddar Cheese On Golden Toast Crackers - 8 Pk',\n",
       "  'item_price': 9.02,\n",
       "  'item_upc12': '28400029254',\n",
       "  'item_upc14': '28400029254'},\n",
       " {'item_brand': 'Amys',\n",
       "  'item_id': 40,\n",
       "  'item_name': 'Amys Light & Lean Spaghetti Italiano',\n",
       "  'item_price': 0.6,\n",
       "  'item_upc12': '42272008063',\n",
       "  'item_upc14': '42272008063'}]"
      ]
     },
     "execution_count": 35,
     "metadata": {},
     "output_type": "execute_result"
    }
   ],
   "source": [
    "page2_items_response = requests.get(items_page2_payload + endpoint_for_second_page)\n",
    "items_page2_payload = page2_items_response.json()['payload']\n",
    "items_page2_payload\n",
    "second_page_of_items = items_page2_payload['items']\n",
    "second_page_of_items"
   ]
  },
  {
   "cell_type": "code",
   "execution_count": 36,
   "metadata": {},
   "outputs": [
    {
     "data": {
      "text/plain": [
       "dict_keys(['items', 'max_page', 'next_page', 'page', 'previous_page'])"
      ]
     },
     "execution_count": 36,
     "metadata": {},
     "output_type": "execute_result"
    }
   ],
   "source": [
    "items_page2_payload.keys()"
   ]
  },
  {
   "cell_type": "code",
   "execution_count": 38,
   "metadata": {},
   "outputs": [
    {
     "data": {
      "text/plain": [
       "dict_keys(['payload', 'status'])"
      ]
     },
     "execution_count": 38,
     "metadata": {},
     "output_type": "execute_result"
    }
   ],
   "source": [
    "endpoint_for_thirdpage = items_page2_payload['next_page']\n",
    "page3_items_response = requests.get(\"https://python.zach.lol\" + endpoint_for_thirdpage)\n",
    "page3_items_response.json().keys()\n"
   ]
  },
  {
   "cell_type": "code",
   "execution_count": 39,
   "metadata": {},
   "outputs": [
    {
     "data": {
      "text/plain": [
       "dict_keys(['items', 'max_page', 'next_page', 'page', 'previous_page'])"
      ]
     },
     "execution_count": 39,
     "metadata": {},
     "output_type": "execute_result"
    }
   ],
   "source": [
    "items_page3_payload = page3_items_response.json()['payload']\n",
    "items_page3_payload.keys()"
   ]
  },
  {
   "cell_type": "code",
   "execution_count": 40,
   "metadata": {},
   "outputs": [
    {
     "data": {
      "text/plain": [
       "dict_keys(['item_brand', 'item_id', 'item_name', 'item_price', 'item_upc12', 'item_upc14'])"
      ]
     },
     "execution_count": 40,
     "metadata": {},
     "output_type": "execute_result"
    }
   ],
   "source": [
    "third_page_of_items = items_page3_payload['items']\n",
    "third_page_of_items[0].keys()"
   ]
  },
  {
   "cell_type": "code",
   "execution_count": null,
   "metadata": {},
   "outputs": [],
   "source": [
    "items_list = []\n",
    "\n",
    "response = requests.get('https://python.zach.lol/api/v1/items')\n",
    "data = response.json()\n",
    "n = data['payload']['max_page']\n",
    "\n",
    "for i in range(1,n+1):\n",
    "    url = 'https://python.zach.lol/api/v1/items?page='+str(i)\n",
    "    response = requests.get(url)\n",
    "    data = response.json()\n",
    "    page_items = data['payload']['items']\n",
    "    items_list.append(page_items)"
   ]
  },
  {
   "cell_type": "code",
   "execution_count": null,
   "metadata": {},
   "outputs": [],
   "source": [
    "items_list = items_list + page_items"
   ]
  },
  {
   "cell_type": "code",
   "execution_count": null,
   "metadata": {},
   "outputs": [],
   "source": [
    "Or items_list += page_items"
   ]
  },
  {
   "cell_type": "code",
   "execution_count": null,
   "metadata": {},
   "outputs": [],
   "source": []
  }
 ],
 "metadata": {
  "kernelspec": {
   "display_name": "Python 3",
   "language": "python",
   "name": "python3"
  },
  "language_info": {
   "codemirror_mode": {
    "name": "ipython",
    "version": 3
   },
   "file_extension": ".py",
   "mimetype": "text/x-python",
   "name": "python",
   "nbconvert_exporter": "python",
   "pygments_lexer": "ipython3",
   "version": "3.8.5"
  }
 },
 "nbformat": 4,
 "nbformat_minor": 4
}
