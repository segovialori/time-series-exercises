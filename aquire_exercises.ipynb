{
 "cells": [
  {
   "cell_type": "markdown",
   "metadata": {},
   "source": [
    "# Time Series Aquire Exercises"
   ]
  },
  {
   "cell_type": "markdown",
   "metadata": {},
   "source": [
    "### imports"
   ]
  },
  {
   "cell_type": "code",
   "execution_count": 44,
   "metadata": {},
   "outputs": [],
   "source": [
    "import pandas as pd\n",
    "import requests\n",
    "import os"
   ]
  },
  {
   "cell_type": "markdown",
   "metadata": {},
   "source": [
    "#### 1. Using the code from the lesson as a guide and the REST API from https://python.zach.lol/api/v1/items as we did in the lesson, create a dataframe named items that has all of the data for items."
   ]
  },
  {
   "cell_type": "code",
   "execution_count": 2,
   "metadata": {},
   "outputs": [
    {
     "name": "stdout",
     "output_type": "stream",
     "text": [
      "{\"api\":\"/api/v1\",\"help\":\"/documentation\"}\n",
      "\n"
     ]
    }
   ],
   "source": [
    "base_url = 'https://python.zach.lol'\n",
    "print(requests.get(base_url).text)"
   ]
  },
  {
   "cell_type": "code",
   "execution_count": 3,
   "metadata": {},
   "outputs": [
    {
     "name": "stdout",
     "output_type": "stream",
     "text": [
      "\n",
      "The API accepts GET requests for all endpoints, where endpoints are prefixed\n",
      "with\n",
      "\n",
      "    /api/{version}\n",
      "\n",
      "Where version is \"v1\"\n",
      "\n",
      "Valid endpoints:\n",
      "\n",
      "- /stores[/{store_id}]\n",
      "- /items[/{item_id}]\n",
      "- /sales[/{sale_id}]\n",
      "\n",
      "All endpoints accept a `page` parameter that can be used to navigate through\n",
      "the results.\n",
      "\n"
     ]
    }
   ],
   "source": [
    "response = requests.get(base_url + '/documentation')\n",
    "print(response.json()['payload'])"
   ]
  },
  {
   "cell_type": "code",
   "execution_count": 4,
   "metadata": {},
   "outputs": [
    {
     "data": {
      "text/plain": [
       "dict_keys(['payload', 'status'])"
      ]
     },
     "execution_count": 4,
     "metadata": {},
     "output_type": "execute_result"
    }
   ],
   "source": [
    "response = requests.get('https://python.zach.lol/api/v1/items')\n",
    "\n",
    "data = response.json()\n",
    "data.keys()"
   ]
  },
  {
   "cell_type": "code",
   "execution_count": 5,
   "metadata": {},
   "outputs": [
    {
     "data": {
      "text/plain": [
       "dict_keys(['items', 'max_page', 'next_page', 'page', 'previous_page'])"
      ]
     },
     "execution_count": 5,
     "metadata": {},
     "output_type": "execute_result"
    }
   ],
   "source": [
    "data['payload'].keys()"
   ]
  },
  {
   "cell_type": "code",
   "execution_count": 6,
   "metadata": {},
   "outputs": [
    {
     "data": {
      "text/plain": [
       "[{'item_brand': 'Riceland',\n",
       "  'item_id': 1,\n",
       "  'item_name': 'Riceland American Jazmine Rice',\n",
       "  'item_price': 0.84,\n",
       "  'item_upc12': '35200264013',\n",
       "  'item_upc14': '35200264013'},\n",
       " {'item_brand': 'Caress',\n",
       "  'item_id': 2,\n",
       "  'item_name': 'Caress Velvet Bliss Ultra Silkening Beauty Bar - 6 Ct',\n",
       "  'item_price': 6.44,\n",
       "  'item_upc12': '11111065925',\n",
       "  'item_upc14': '11111065925'},\n",
       " {'item_brand': 'Earths Best',\n",
       "  'item_id': 3,\n",
       "  'item_name': 'Earths Best Organic Fruit Yogurt Smoothie Mixed Berry',\n",
       "  'item_price': 2.43,\n",
       "  'item_upc12': '23923330139',\n",
       "  'item_upc14': '23923330139'},\n",
       " {'item_brand': 'Boars Head',\n",
       "  'item_id': 4,\n",
       "  'item_name': 'Boars Head Sliced White American Cheese - 120 Ct',\n",
       "  'item_price': 3.14,\n",
       "  'item_upc12': '208528800007',\n",
       "  'item_upc14': '208528800007'},\n",
       " {'item_brand': 'Back To Nature',\n",
       "  'item_id': 5,\n",
       "  'item_name': 'Back To Nature Gluten Free White Cheddar Rice Thin Crackers',\n",
       "  'item_price': 2.61,\n",
       "  'item_upc12': '759283100036',\n",
       "  'item_upc14': '759283100036'},\n",
       " {'item_brand': 'Sally Hansen',\n",
       "  'item_id': 6,\n",
       "  'item_name': 'Sally Hansen Nail Color Magnetic 903 Silver Elements',\n",
       "  'item_price': 6.93,\n",
       "  'item_upc12': '74170388732',\n",
       "  'item_upc14': '74170388732'},\n",
       " {'item_brand': 'Twinings Of London',\n",
       "  'item_id': 7,\n",
       "  'item_name': 'Twinings Of London Classics Lady Grey Tea - 20 Ct',\n",
       "  'item_price': 9.64,\n",
       "  'item_upc12': '70177154004',\n",
       "  'item_upc14': '70177154004'},\n",
       " {'item_brand': 'Lea & Perrins',\n",
       "  'item_id': 8,\n",
       "  'item_name': 'Lea & Perrins Marinade In-a-bag Cracked Peppercorn',\n",
       "  'item_price': 1.68,\n",
       "  'item_upc12': '51600080015',\n",
       "  'item_upc14': '51600080015'},\n",
       " {'item_brand': 'Van De Kamps',\n",
       "  'item_id': 9,\n",
       "  'item_name': 'Van De Kamps Fillets Beer Battered - 10 Ct',\n",
       "  'item_price': 1.79,\n",
       "  'item_upc12': '19600923015',\n",
       "  'item_upc14': '19600923015'},\n",
       " {'item_brand': 'Ahold',\n",
       "  'item_id': 10,\n",
       "  'item_name': 'Ahold Cocoa Almonds',\n",
       "  'item_price': 3.17,\n",
       "  'item_upc12': '688267141676',\n",
       "  'item_upc14': '688267141676'},\n",
       " {'item_brand': 'Honest Tea',\n",
       "  'item_id': 11,\n",
       "  'item_name': 'Honest Tea Peach White Tea',\n",
       "  'item_price': 3.93,\n",
       "  'item_upc12': '657622604842',\n",
       "  'item_upc14': '657622604842'},\n",
       " {'item_brand': 'Mueller',\n",
       "  'item_id': 12,\n",
       "  'item_name': 'Mueller Sport Care Basic Support Level Medium Elastic Knee Support',\n",
       "  'item_price': 8.4,\n",
       "  'item_upc12': '74676640211',\n",
       "  'item_upc14': '74676640211'},\n",
       " {'item_brand': 'Garnier Nutritioniste',\n",
       "  'item_id': 13,\n",
       "  'item_name': 'Garnier Nutritioniste Moisture Rescue Fresh Cleansing Foam',\n",
       "  'item_price': 6.47,\n",
       "  'item_upc12': '603084234561',\n",
       "  'item_upc14': '603084234561'},\n",
       " {'item_brand': 'Pamprin',\n",
       "  'item_id': 14,\n",
       "  'item_name': 'Pamprin Maximum Strength Multi-symptom Menstrual Pain Relief',\n",
       "  'item_price': 7.54,\n",
       "  'item_upc12': '41167300121',\n",
       "  'item_upc14': '41167300121'},\n",
       " {'item_brand': 'Suave',\n",
       "  'item_id': 15,\n",
       "  'item_name': 'Suave Naturals Moisturizing Body Wash Creamy Tropical Coconut',\n",
       "  'item_price': 9.11,\n",
       "  'item_upc12': '79400847201',\n",
       "  'item_upc14': '79400847201'},\n",
       " {'item_brand': 'Burts Bees',\n",
       "  'item_id': 16,\n",
       "  'item_name': 'Burts Bees Daily Moisturizing Cream Sensitive',\n",
       "  'item_price': 5.17,\n",
       "  'item_upc12': '792850014008',\n",
       "  'item_upc14': '792850014008'},\n",
       " {'item_brand': 'Ducal',\n",
       "  'item_id': 17,\n",
       "  'item_name': 'Ducal Refried Red Beans',\n",
       "  'item_price': 1.16,\n",
       "  'item_upc12': '88313590791',\n",
       "  'item_upc14': '88313590791'},\n",
       " {'item_brand': 'Scotch',\n",
       "  'item_id': 18,\n",
       "  'item_name': 'Scotch Removable Clear Mounting Squares - 35 Ct',\n",
       "  'item_price': 4.39,\n",
       "  'item_upc12': '21200725340',\n",
       "  'item_upc14': '21200725340'},\n",
       " {'item_brand': 'Careone',\n",
       "  'item_id': 19,\n",
       "  'item_name': 'Careone Family Comb Set - 8 Ct',\n",
       "  'item_price': 0.74,\n",
       "  'item_upc12': '41520035646',\n",
       "  'item_upc14': '41520035646'},\n",
       " {'item_brand': 'Usda Produce',\n",
       "  'item_id': 20,\n",
       "  'item_name': 'Plums Black',\n",
       "  'item_price': 5.62,\n",
       "  'item_upc12': '204040000000',\n",
       "  'item_upc14': '204040000000'}]"
      ]
     },
     "execution_count": 6,
     "metadata": {},
     "output_type": "execute_result"
    }
   ],
   "source": [
    "data['payload']['items']"
   ]
  },
  {
   "cell_type": "code",
   "execution_count": null,
   "metadata": {},
   "outputs": [],
   "source": [
    "items_list = []\n",
    "\n",
    "response = requests.get('https://python.zach.lol/api/v1/items')\n",
    "data = response.json()\n",
    "n = data['payload']['max_page']\n",
    "\n",
    "for i in range(1,n+1):\n",
    "    url = 'https://python.zach.lol/api/v1/items?page='+str(i)\n",
    "    response = requests.get(url)\n",
    "    data = response.json()\n",
    "    page_items = data['payload']['items']\n",
    "    items_list.append(page_items)"
   ]
  },
  {
   "cell_type": "code",
   "execution_count": 21,
   "metadata": {},
   "outputs": [],
   "source": [
    "#function to acquire items, store, and sales\n",
    "def get_items(whatyouneed, cached=False):\n",
    "    if cached == False:\n",
    "        listy_list = []\n",
    "        base_url = \"https://python.zach.lol\"\n",
    "        api_thing = base_url + '/api/v1/'\n",
    "        response = requests.get(api_thing + whatyouneed) \n",
    "        data = response.json()\n",
    "        n = data['payload']['max_page']\n",
    "        \n",
    "        for i in range(1, n+1):\n",
    "            new_url = api_thing + '?page=' + str(i)\n",
    "            response = requests.get(new_url) \n",
    "            page_items = data['payload'][whatyouneed]\n",
    "            listy_list += page_items\n",
    "            \n",
    "        whatyouneed = pd.DataFrame(listy_list)\n",
    "        whatyouneed.to_csv('whatyouneed.csv')\n",
    "            \n",
    "    else:\n",
    "        whatyouneed = pd.read_csv('whatyouneed.csv', index_col=0)\n",
    "    \n",
    "    return whatyouneed\n"
   ]
  },
  {
   "cell_type": "code",
   "execution_count": 28,
   "metadata": {},
   "outputs": [],
   "source": [
    "items_df = get_items('items', cached=False)"
   ]
  },
  {
   "cell_type": "code",
   "execution_count": 29,
   "metadata": {},
   "outputs": [
    {
     "data": {
      "text/html": [
       "<div>\n",
       "<style scoped>\n",
       "    .dataframe tbody tr th:only-of-type {\n",
       "        vertical-align: middle;\n",
       "    }\n",
       "\n",
       "    .dataframe tbody tr th {\n",
       "        vertical-align: top;\n",
       "    }\n",
       "\n",
       "    .dataframe thead th {\n",
       "        text-align: right;\n",
       "    }\n",
       "</style>\n",
       "<table border=\"1\" class=\"dataframe\">\n",
       "  <thead>\n",
       "    <tr style=\"text-align: right;\">\n",
       "      <th></th>\n",
       "      <th>item_brand</th>\n",
       "      <th>item_id</th>\n",
       "      <th>item_name</th>\n",
       "      <th>item_price</th>\n",
       "      <th>item_upc12</th>\n",
       "      <th>item_upc14</th>\n",
       "    </tr>\n",
       "  </thead>\n",
       "  <tbody>\n",
       "    <tr>\n",
       "      <th>0</th>\n",
       "      <td>Riceland</td>\n",
       "      <td>1</td>\n",
       "      <td>Riceland American Jazmine Rice</td>\n",
       "      <td>0.84</td>\n",
       "      <td>35200264013</td>\n",
       "      <td>35200264013</td>\n",
       "    </tr>\n",
       "    <tr>\n",
       "      <th>1</th>\n",
       "      <td>Caress</td>\n",
       "      <td>2</td>\n",
       "      <td>Caress Velvet Bliss Ultra Silkening Beauty Bar...</td>\n",
       "      <td>6.44</td>\n",
       "      <td>11111065925</td>\n",
       "      <td>11111065925</td>\n",
       "    </tr>\n",
       "    <tr>\n",
       "      <th>2</th>\n",
       "      <td>Earths Best</td>\n",
       "      <td>3</td>\n",
       "      <td>Earths Best Organic Fruit Yogurt Smoothie Mixe...</td>\n",
       "      <td>2.43</td>\n",
       "      <td>23923330139</td>\n",
       "      <td>23923330139</td>\n",
       "    </tr>\n",
       "    <tr>\n",
       "      <th>3</th>\n",
       "      <td>Boars Head</td>\n",
       "      <td>4</td>\n",
       "      <td>Boars Head Sliced White American Cheese - 120 Ct</td>\n",
       "      <td>3.14</td>\n",
       "      <td>208528800007</td>\n",
       "      <td>208528800007</td>\n",
       "    </tr>\n",
       "    <tr>\n",
       "      <th>4</th>\n",
       "      <td>Back To Nature</td>\n",
       "      <td>5</td>\n",
       "      <td>Back To Nature Gluten Free White Cheddar Rice ...</td>\n",
       "      <td>2.61</td>\n",
       "      <td>759283100036</td>\n",
       "      <td>759283100036</td>\n",
       "    </tr>\n",
       "  </tbody>\n",
       "</table>\n",
       "</div>"
      ],
      "text/plain": [
       "       item_brand  item_id                                          item_name  \\\n",
       "0        Riceland        1                     Riceland American Jazmine Rice   \n",
       "1          Caress        2  Caress Velvet Bliss Ultra Silkening Beauty Bar...   \n",
       "2     Earths Best        3  Earths Best Organic Fruit Yogurt Smoothie Mixe...   \n",
       "3      Boars Head        4   Boars Head Sliced White American Cheese - 120 Ct   \n",
       "4  Back To Nature        5  Back To Nature Gluten Free White Cheddar Rice ...   \n",
       "\n",
       "   item_price    item_upc12    item_upc14  \n",
       "0        0.84   35200264013   35200264013  \n",
       "1        6.44   11111065925   11111065925  \n",
       "2        2.43   23923330139   23923330139  \n",
       "3        3.14  208528800007  208528800007  \n",
       "4        2.61  759283100036  759283100036  "
      ]
     },
     "execution_count": 29,
     "metadata": {},
     "output_type": "execute_result"
    }
   ],
   "source": [
    "items_df.head()"
   ]
  },
  {
   "cell_type": "code",
   "execution_count": 30,
   "metadata": {},
   "outputs": [
    {
     "data": {
      "text/plain": [
       "(60, 6)"
      ]
     },
     "execution_count": 30,
     "metadata": {},
     "output_type": "execute_result"
    }
   ],
   "source": [
    "items_df.shape"
   ]
  },
  {
   "cell_type": "markdown",
   "metadata": {},
   "source": [
    "#### 2. Do the same thing, but for stores (https://python.zach.lol/api/v1/stores)"
   ]
  },
  {
   "cell_type": "code",
   "execution_count": 34,
   "metadata": {},
   "outputs": [
    {
     "data": {
      "text/html": [
       "<div>\n",
       "<style scoped>\n",
       "    .dataframe tbody tr th:only-of-type {\n",
       "        vertical-align: middle;\n",
       "    }\n",
       "\n",
       "    .dataframe tbody tr th {\n",
       "        vertical-align: top;\n",
       "    }\n",
       "\n",
       "    .dataframe thead th {\n",
       "        text-align: right;\n",
       "    }\n",
       "</style>\n",
       "<table border=\"1\" class=\"dataframe\">\n",
       "  <thead>\n",
       "    <tr style=\"text-align: right;\">\n",
       "      <th></th>\n",
       "      <th>store_address</th>\n",
       "      <th>store_city</th>\n",
       "      <th>store_id</th>\n",
       "      <th>store_state</th>\n",
       "      <th>store_zipcode</th>\n",
       "    </tr>\n",
       "  </thead>\n",
       "  <tbody>\n",
       "    <tr>\n",
       "      <th>0</th>\n",
       "      <td>12125 Alamo Ranch Pkwy</td>\n",
       "      <td>San Antonio</td>\n",
       "      <td>1</td>\n",
       "      <td>TX</td>\n",
       "      <td>78253</td>\n",
       "    </tr>\n",
       "    <tr>\n",
       "      <th>1</th>\n",
       "      <td>9255 FM 471 West</td>\n",
       "      <td>San Antonio</td>\n",
       "      <td>2</td>\n",
       "      <td>TX</td>\n",
       "      <td>78251</td>\n",
       "    </tr>\n",
       "    <tr>\n",
       "      <th>2</th>\n",
       "      <td>2118 Fredericksburg Rdj</td>\n",
       "      <td>San Antonio</td>\n",
       "      <td>3</td>\n",
       "      <td>TX</td>\n",
       "      <td>78201</td>\n",
       "    </tr>\n",
       "    <tr>\n",
       "      <th>3</th>\n",
       "      <td>516 S Flores St</td>\n",
       "      <td>San Antonio</td>\n",
       "      <td>4</td>\n",
       "      <td>TX</td>\n",
       "      <td>78204</td>\n",
       "    </tr>\n",
       "    <tr>\n",
       "      <th>4</th>\n",
       "      <td>1520 Austin Hwy</td>\n",
       "      <td>San Antonio</td>\n",
       "      <td>5</td>\n",
       "      <td>TX</td>\n",
       "      <td>78218</td>\n",
       "    </tr>\n",
       "  </tbody>\n",
       "</table>\n",
       "</div>"
      ],
      "text/plain": [
       "             store_address   store_city  store_id store_state store_zipcode\n",
       "0   12125 Alamo Ranch Pkwy  San Antonio         1          TX         78253\n",
       "1         9255 FM 471 West  San Antonio         2          TX         78251\n",
       "2  2118 Fredericksburg Rdj  San Antonio         3          TX         78201\n",
       "3          516 S Flores St  San Antonio         4          TX         78204\n",
       "4          1520 Austin Hwy  San Antonio         5          TX         78218"
      ]
     },
     "execution_count": 34,
     "metadata": {},
     "output_type": "execute_result"
    }
   ],
   "source": [
    "stores_df = get_items('stores', cached=False)\n",
    "stores_df.head()"
   ]
  },
  {
   "cell_type": "code",
   "execution_count": 32,
   "metadata": {},
   "outputs": [
    {
     "data": {
      "text/plain": [
       "(10, 5)"
      ]
     },
     "execution_count": 32,
     "metadata": {},
     "output_type": "execute_result"
    }
   ],
   "source": [
    "stores_df.shape"
   ]
  },
  {
   "cell_type": "markdown",
   "metadata": {},
   "source": [
    "#### 3. Extract the data for sales (https://python.zach.lol/api/v1/sales). There are a lot of pages of data here, so your code will need to be a little more complex. Your code should continue fetching data from the next page until all of the data is extracted."
   ]
  },
  {
   "cell_type": "code",
   "execution_count": 35,
   "metadata": {},
   "outputs": [],
   "source": [
    "sales_df = get_items('sales', cached=False)"
   ]
  },
  {
   "cell_type": "code",
   "execution_count": 36,
   "metadata": {},
   "outputs": [
    {
     "data": {
      "text/html": [
       "<div>\n",
       "<style scoped>\n",
       "    .dataframe tbody tr th:only-of-type {\n",
       "        vertical-align: middle;\n",
       "    }\n",
       "\n",
       "    .dataframe tbody tr th {\n",
       "        vertical-align: top;\n",
       "    }\n",
       "\n",
       "    .dataframe thead th {\n",
       "        text-align: right;\n",
       "    }\n",
       "</style>\n",
       "<table border=\"1\" class=\"dataframe\">\n",
       "  <thead>\n",
       "    <tr style=\"text-align: right;\">\n",
       "      <th></th>\n",
       "      <th>item</th>\n",
       "      <th>sale_amount</th>\n",
       "      <th>sale_date</th>\n",
       "      <th>sale_id</th>\n",
       "      <th>store</th>\n",
       "    </tr>\n",
       "  </thead>\n",
       "  <tbody>\n",
       "    <tr>\n",
       "      <th>0</th>\n",
       "      <td>1</td>\n",
       "      <td>13.0</td>\n",
       "      <td>Tue, 01 Jan 2013 00:00:00 GMT</td>\n",
       "      <td>1</td>\n",
       "      <td>1</td>\n",
       "    </tr>\n",
       "    <tr>\n",
       "      <th>1</th>\n",
       "      <td>1</td>\n",
       "      <td>11.0</td>\n",
       "      <td>Wed, 02 Jan 2013 00:00:00 GMT</td>\n",
       "      <td>2</td>\n",
       "      <td>1</td>\n",
       "    </tr>\n",
       "    <tr>\n",
       "      <th>2</th>\n",
       "      <td>1</td>\n",
       "      <td>14.0</td>\n",
       "      <td>Thu, 03 Jan 2013 00:00:00 GMT</td>\n",
       "      <td>3</td>\n",
       "      <td>1</td>\n",
       "    </tr>\n",
       "    <tr>\n",
       "      <th>3</th>\n",
       "      <td>1</td>\n",
       "      <td>13.0</td>\n",
       "      <td>Fri, 04 Jan 2013 00:00:00 GMT</td>\n",
       "      <td>4</td>\n",
       "      <td>1</td>\n",
       "    </tr>\n",
       "    <tr>\n",
       "      <th>4</th>\n",
       "      <td>1</td>\n",
       "      <td>10.0</td>\n",
       "      <td>Sat, 05 Jan 2013 00:00:00 GMT</td>\n",
       "      <td>5</td>\n",
       "      <td>1</td>\n",
       "    </tr>\n",
       "  </tbody>\n",
       "</table>\n",
       "</div>"
      ],
      "text/plain": [
       "   item  sale_amount                      sale_date  sale_id  store\n",
       "0     1         13.0  Tue, 01 Jan 2013 00:00:00 GMT        1      1\n",
       "1     1         11.0  Wed, 02 Jan 2013 00:00:00 GMT        2      1\n",
       "2     1         14.0  Thu, 03 Jan 2013 00:00:00 GMT        3      1\n",
       "3     1         13.0  Fri, 04 Jan 2013 00:00:00 GMT        4      1\n",
       "4     1         10.0  Sat, 05 Jan 2013 00:00:00 GMT        5      1"
      ]
     },
     "execution_count": 36,
     "metadata": {},
     "output_type": "execute_result"
    }
   ],
   "source": [
    "sales_df.head()"
   ]
  },
  {
   "cell_type": "code",
   "execution_count": 37,
   "metadata": {},
   "outputs": [
    {
     "data": {
      "text/plain": [
       "(915000, 5)"
      ]
     },
     "execution_count": 37,
     "metadata": {},
     "output_type": "execute_result"
    }
   ],
   "source": [
    "sales_df.shape"
   ]
  },
  {
   "cell_type": "markdown",
   "metadata": {},
   "source": [
    "#### 4. Save the data in your files to local csv files so that it will be faster to access in the future."
   ]
  },
  {
   "cell_type": "markdown",
   "metadata": {},
   "source": [
    "#### 5. Combine the data from your three separate dataframes into one large dataframe."
   ]
  },
  {
   "cell_type": "code",
   "execution_count": 38,
   "metadata": {},
   "outputs": [],
   "source": [
    "\n",
    "df = pd.merge(sales_df, stores_df, left_on='store', right_on='store_id').drop(columns={'store'})"
   ]
  },
  {
   "cell_type": "code",
   "execution_count": 39,
   "metadata": {},
   "outputs": [
    {
     "data": {
      "text/html": [
       "<div>\n",
       "<style scoped>\n",
       "    .dataframe tbody tr th:only-of-type {\n",
       "        vertical-align: middle;\n",
       "    }\n",
       "\n",
       "    .dataframe tbody tr th {\n",
       "        vertical-align: top;\n",
       "    }\n",
       "\n",
       "    .dataframe thead th {\n",
       "        text-align: right;\n",
       "    }\n",
       "</style>\n",
       "<table border=\"1\" class=\"dataframe\">\n",
       "  <thead>\n",
       "    <tr style=\"text-align: right;\">\n",
       "      <th></th>\n",
       "      <th>item</th>\n",
       "      <th>sale_amount</th>\n",
       "      <th>sale_date</th>\n",
       "      <th>sale_id</th>\n",
       "      <th>store_address</th>\n",
       "      <th>store_city</th>\n",
       "      <th>store_id</th>\n",
       "      <th>store_state</th>\n",
       "      <th>store_zipcode</th>\n",
       "    </tr>\n",
       "  </thead>\n",
       "  <tbody>\n",
       "    <tr>\n",
       "      <th>0</th>\n",
       "      <td>1</td>\n",
       "      <td>13.0</td>\n",
       "      <td>Tue, 01 Jan 2013 00:00:00 GMT</td>\n",
       "      <td>1</td>\n",
       "      <td>12125 Alamo Ranch Pkwy</td>\n",
       "      <td>San Antonio</td>\n",
       "      <td>1</td>\n",
       "      <td>TX</td>\n",
       "      <td>78253</td>\n",
       "    </tr>\n",
       "    <tr>\n",
       "      <th>1</th>\n",
       "      <td>1</td>\n",
       "      <td>11.0</td>\n",
       "      <td>Wed, 02 Jan 2013 00:00:00 GMT</td>\n",
       "      <td>2</td>\n",
       "      <td>12125 Alamo Ranch Pkwy</td>\n",
       "      <td>San Antonio</td>\n",
       "      <td>1</td>\n",
       "      <td>TX</td>\n",
       "      <td>78253</td>\n",
       "    </tr>\n",
       "    <tr>\n",
       "      <th>2</th>\n",
       "      <td>1</td>\n",
       "      <td>14.0</td>\n",
       "      <td>Thu, 03 Jan 2013 00:00:00 GMT</td>\n",
       "      <td>3</td>\n",
       "      <td>12125 Alamo Ranch Pkwy</td>\n",
       "      <td>San Antonio</td>\n",
       "      <td>1</td>\n",
       "      <td>TX</td>\n",
       "      <td>78253</td>\n",
       "    </tr>\n",
       "    <tr>\n",
       "      <th>3</th>\n",
       "      <td>1</td>\n",
       "      <td>13.0</td>\n",
       "      <td>Fri, 04 Jan 2013 00:00:00 GMT</td>\n",
       "      <td>4</td>\n",
       "      <td>12125 Alamo Ranch Pkwy</td>\n",
       "      <td>San Antonio</td>\n",
       "      <td>1</td>\n",
       "      <td>TX</td>\n",
       "      <td>78253</td>\n",
       "    </tr>\n",
       "    <tr>\n",
       "      <th>4</th>\n",
       "      <td>1</td>\n",
       "      <td>10.0</td>\n",
       "      <td>Sat, 05 Jan 2013 00:00:00 GMT</td>\n",
       "      <td>5</td>\n",
       "      <td>12125 Alamo Ranch Pkwy</td>\n",
       "      <td>San Antonio</td>\n",
       "      <td>1</td>\n",
       "      <td>TX</td>\n",
       "      <td>78253</td>\n",
       "    </tr>\n",
       "  </tbody>\n",
       "</table>\n",
       "</div>"
      ],
      "text/plain": [
       "   item  sale_amount                      sale_date  sale_id  \\\n",
       "0     1         13.0  Tue, 01 Jan 2013 00:00:00 GMT        1   \n",
       "1     1         11.0  Wed, 02 Jan 2013 00:00:00 GMT        2   \n",
       "2     1         14.0  Thu, 03 Jan 2013 00:00:00 GMT        3   \n",
       "3     1         13.0  Fri, 04 Jan 2013 00:00:00 GMT        4   \n",
       "4     1         10.0  Sat, 05 Jan 2013 00:00:00 GMT        5   \n",
       "\n",
       "            store_address   store_city  store_id store_state store_zipcode  \n",
       "0  12125 Alamo Ranch Pkwy  San Antonio         1          TX         78253  \n",
       "1  12125 Alamo Ranch Pkwy  San Antonio         1          TX         78253  \n",
       "2  12125 Alamo Ranch Pkwy  San Antonio         1          TX         78253  \n",
       "3  12125 Alamo Ranch Pkwy  San Antonio         1          TX         78253  \n",
       "4  12125 Alamo Ranch Pkwy  San Antonio         1          TX         78253  "
      ]
     },
     "execution_count": 39,
     "metadata": {},
     "output_type": "execute_result"
    }
   ],
   "source": [
    "df.head()"
   ]
  },
  {
   "cell_type": "code",
   "execution_count": 40,
   "metadata": {},
   "outputs": [],
   "source": [
    "df = pd.merge(df, items_df, left_on='item', right_on='item_id').drop(columns={'item'})"
   ]
  },
  {
   "cell_type": "code",
   "execution_count": 41,
   "metadata": {},
   "outputs": [
    {
     "data": {
      "text/html": [
       "<div>\n",
       "<style scoped>\n",
       "    .dataframe tbody tr th:only-of-type {\n",
       "        vertical-align: middle;\n",
       "    }\n",
       "\n",
       "    .dataframe tbody tr th {\n",
       "        vertical-align: top;\n",
       "    }\n",
       "\n",
       "    .dataframe thead th {\n",
       "        text-align: right;\n",
       "    }\n",
       "</style>\n",
       "<table border=\"1\" class=\"dataframe\">\n",
       "  <thead>\n",
       "    <tr style=\"text-align: right;\">\n",
       "      <th></th>\n",
       "      <th>sale_amount</th>\n",
       "      <th>sale_date</th>\n",
       "      <th>sale_id</th>\n",
       "      <th>store_address</th>\n",
       "      <th>store_city</th>\n",
       "      <th>store_id</th>\n",
       "      <th>store_state</th>\n",
       "      <th>store_zipcode</th>\n",
       "      <th>item_brand</th>\n",
       "      <th>item_id</th>\n",
       "      <th>item_name</th>\n",
       "      <th>item_price</th>\n",
       "      <th>item_upc12</th>\n",
       "      <th>item_upc14</th>\n",
       "    </tr>\n",
       "  </thead>\n",
       "  <tbody>\n",
       "    <tr>\n",
       "      <th>0</th>\n",
       "      <td>13.0</td>\n",
       "      <td>Tue, 01 Jan 2013 00:00:00 GMT</td>\n",
       "      <td>1</td>\n",
       "      <td>12125 Alamo Ranch Pkwy</td>\n",
       "      <td>San Antonio</td>\n",
       "      <td>1</td>\n",
       "      <td>TX</td>\n",
       "      <td>78253</td>\n",
       "      <td>Riceland</td>\n",
       "      <td>1</td>\n",
       "      <td>Riceland American Jazmine Rice</td>\n",
       "      <td>0.84</td>\n",
       "      <td>35200264013</td>\n",
       "      <td>35200264013</td>\n",
       "    </tr>\n",
       "    <tr>\n",
       "      <th>1</th>\n",
       "      <td>13.0</td>\n",
       "      <td>Tue, 01 Jan 2013 00:00:00 GMT</td>\n",
       "      <td>1</td>\n",
       "      <td>12125 Alamo Ranch Pkwy</td>\n",
       "      <td>San Antonio</td>\n",
       "      <td>1</td>\n",
       "      <td>TX</td>\n",
       "      <td>78253</td>\n",
       "      <td>Riceland</td>\n",
       "      <td>1</td>\n",
       "      <td>Riceland American Jazmine Rice</td>\n",
       "      <td>0.84</td>\n",
       "      <td>35200264013</td>\n",
       "      <td>35200264013</td>\n",
       "    </tr>\n",
       "    <tr>\n",
       "      <th>2</th>\n",
       "      <td>13.0</td>\n",
       "      <td>Tue, 01 Jan 2013 00:00:00 GMT</td>\n",
       "      <td>1</td>\n",
       "      <td>12125 Alamo Ranch Pkwy</td>\n",
       "      <td>San Antonio</td>\n",
       "      <td>1</td>\n",
       "      <td>TX</td>\n",
       "      <td>78253</td>\n",
       "      <td>Riceland</td>\n",
       "      <td>1</td>\n",
       "      <td>Riceland American Jazmine Rice</td>\n",
       "      <td>0.84</td>\n",
       "      <td>35200264013</td>\n",
       "      <td>35200264013</td>\n",
       "    </tr>\n",
       "    <tr>\n",
       "      <th>3</th>\n",
       "      <td>11.0</td>\n",
       "      <td>Wed, 02 Jan 2013 00:00:00 GMT</td>\n",
       "      <td>2</td>\n",
       "      <td>12125 Alamo Ranch Pkwy</td>\n",
       "      <td>San Antonio</td>\n",
       "      <td>1</td>\n",
       "      <td>TX</td>\n",
       "      <td>78253</td>\n",
       "      <td>Riceland</td>\n",
       "      <td>1</td>\n",
       "      <td>Riceland American Jazmine Rice</td>\n",
       "      <td>0.84</td>\n",
       "      <td>35200264013</td>\n",
       "      <td>35200264013</td>\n",
       "    </tr>\n",
       "    <tr>\n",
       "      <th>4</th>\n",
       "      <td>11.0</td>\n",
       "      <td>Wed, 02 Jan 2013 00:00:00 GMT</td>\n",
       "      <td>2</td>\n",
       "      <td>12125 Alamo Ranch Pkwy</td>\n",
       "      <td>San Antonio</td>\n",
       "      <td>1</td>\n",
       "      <td>TX</td>\n",
       "      <td>78253</td>\n",
       "      <td>Riceland</td>\n",
       "      <td>1</td>\n",
       "      <td>Riceland American Jazmine Rice</td>\n",
       "      <td>0.84</td>\n",
       "      <td>35200264013</td>\n",
       "      <td>35200264013</td>\n",
       "    </tr>\n",
       "  </tbody>\n",
       "</table>\n",
       "</div>"
      ],
      "text/plain": [
       "   sale_amount                      sale_date  sale_id  \\\n",
       "0         13.0  Tue, 01 Jan 2013 00:00:00 GMT        1   \n",
       "1         13.0  Tue, 01 Jan 2013 00:00:00 GMT        1   \n",
       "2         13.0  Tue, 01 Jan 2013 00:00:00 GMT        1   \n",
       "3         11.0  Wed, 02 Jan 2013 00:00:00 GMT        2   \n",
       "4         11.0  Wed, 02 Jan 2013 00:00:00 GMT        2   \n",
       "\n",
       "            store_address   store_city  store_id store_state store_zipcode  \\\n",
       "0  12125 Alamo Ranch Pkwy  San Antonio         1          TX         78253   \n",
       "1  12125 Alamo Ranch Pkwy  San Antonio         1          TX         78253   \n",
       "2  12125 Alamo Ranch Pkwy  San Antonio         1          TX         78253   \n",
       "3  12125 Alamo Ranch Pkwy  San Antonio         1          TX         78253   \n",
       "4  12125 Alamo Ranch Pkwy  San Antonio         1          TX         78253   \n",
       "\n",
       "  item_brand  item_id                       item_name  item_price  \\\n",
       "0   Riceland        1  Riceland American Jazmine Rice        0.84   \n",
       "1   Riceland        1  Riceland American Jazmine Rice        0.84   \n",
       "2   Riceland        1  Riceland American Jazmine Rice        0.84   \n",
       "3   Riceland        1  Riceland American Jazmine Rice        0.84   \n",
       "4   Riceland        1  Riceland American Jazmine Rice        0.84   \n",
       "\n",
       "    item_upc12   item_upc14  \n",
       "0  35200264013  35200264013  \n",
       "1  35200264013  35200264013  \n",
       "2  35200264013  35200264013  \n",
       "3  35200264013  35200264013  \n",
       "4  35200264013  35200264013  "
      ]
     },
     "execution_count": 41,
     "metadata": {},
     "output_type": "execute_result"
    }
   ],
   "source": [
    "df.head()"
   ]
  },
  {
   "cell_type": "markdown",
   "metadata": {},
   "source": [
    "#### 6. Acquire the Open Power Systems Data for Germany, which has been rapidly expanding its renewable energy production in recent years. The data set includes country-wide totals of electricity consumption, wind power production, and solar power production for 2006-2017. You can get the data here: https://raw.githubusercontent.com/jenfly/opsd/master/opsd_germany_daily.csv"
   ]
  },
  {
   "cell_type": "code",
   "execution_count": 50,
   "metadata": {},
   "outputs": [],
   "source": [
    "def get_germany():\n",
    "    if os.path.isfile('opsd_germany_daily.csv'):\n",
    "        df = pd.read_csv('opsd_germany_daily.csv', index_col=0)\n",
    "    else:\n",
    "        df = pd.read_csv('https://raw.githubusercontent.com/jenfly/opsd/master/opsd_germany_daily.csv')\n",
    "        df.to_csv('opsd_germany_daily.csv')\n",
    "        df.head()\n",
    "    return df"
   ]
  },
  {
   "cell_type": "code",
   "execution_count": 51,
   "metadata": {},
   "outputs": [],
   "source": [
    "germany = get_germany()"
   ]
  },
  {
   "cell_type": "code",
   "execution_count": 53,
   "metadata": {},
   "outputs": [
    {
     "data": {
      "text/html": [
       "<div>\n",
       "<style scoped>\n",
       "    .dataframe tbody tr th:only-of-type {\n",
       "        vertical-align: middle;\n",
       "    }\n",
       "\n",
       "    .dataframe tbody tr th {\n",
       "        vertical-align: top;\n",
       "    }\n",
       "\n",
       "    .dataframe thead th {\n",
       "        text-align: right;\n",
       "    }\n",
       "</style>\n",
       "<table border=\"1\" class=\"dataframe\">\n",
       "  <thead>\n",
       "    <tr style=\"text-align: right;\">\n",
       "      <th></th>\n",
       "      <th>Date</th>\n",
       "      <th>Consumption</th>\n",
       "      <th>Wind</th>\n",
       "      <th>Solar</th>\n",
       "      <th>Wind+Solar</th>\n",
       "    </tr>\n",
       "  </thead>\n",
       "  <tbody>\n",
       "    <tr>\n",
       "      <th>0</th>\n",
       "      <td>2006-01-01</td>\n",
       "      <td>1069.184</td>\n",
       "      <td>NaN</td>\n",
       "      <td>NaN</td>\n",
       "      <td>NaN</td>\n",
       "    </tr>\n",
       "    <tr>\n",
       "      <th>1</th>\n",
       "      <td>2006-01-02</td>\n",
       "      <td>1380.521</td>\n",
       "      <td>NaN</td>\n",
       "      <td>NaN</td>\n",
       "      <td>NaN</td>\n",
       "    </tr>\n",
       "    <tr>\n",
       "      <th>2</th>\n",
       "      <td>2006-01-03</td>\n",
       "      <td>1442.533</td>\n",
       "      <td>NaN</td>\n",
       "      <td>NaN</td>\n",
       "      <td>NaN</td>\n",
       "    </tr>\n",
       "    <tr>\n",
       "      <th>3</th>\n",
       "      <td>2006-01-04</td>\n",
       "      <td>1457.217</td>\n",
       "      <td>NaN</td>\n",
       "      <td>NaN</td>\n",
       "      <td>NaN</td>\n",
       "    </tr>\n",
       "    <tr>\n",
       "      <th>4</th>\n",
       "      <td>2006-01-05</td>\n",
       "      <td>1477.131</td>\n",
       "      <td>NaN</td>\n",
       "      <td>NaN</td>\n",
       "      <td>NaN</td>\n",
       "    </tr>\n",
       "  </tbody>\n",
       "</table>\n",
       "</div>"
      ],
      "text/plain": [
       "         Date  Consumption  Wind  Solar  Wind+Solar\n",
       "0  2006-01-01     1069.184   NaN    NaN         NaN\n",
       "1  2006-01-02     1380.521   NaN    NaN         NaN\n",
       "2  2006-01-03     1442.533   NaN    NaN         NaN\n",
       "3  2006-01-04     1457.217   NaN    NaN         NaN\n",
       "4  2006-01-05     1477.131   NaN    NaN         NaN"
      ]
     },
     "execution_count": 53,
     "metadata": {},
     "output_type": "execute_result"
    }
   ],
   "source": [
    "germany.head()"
   ]
  },
  {
   "cell_type": "markdown",
   "metadata": {},
   "source": [
    "#### 7. Make sure all the work that you have done above is reproducible. That is, you should put the code above into separate functions in the acquire.py file and be able to re-run the functions and get the same data."
   ]
  },
  {
   "cell_type": "code",
   "execution_count": null,
   "metadata": {},
   "outputs": [],
   "source": [
    "# matthews original function\n",
    "\n",
    "def get_items(cached=False):\n",
    "    if cached == False:\n",
    "        items_list = []\n",
    "        url = \"https://python.zach.lol/api/v1/items\"\n",
    "        response = requests.get(url)\n",
    "        data = response.json()\n",
    "        n = data['payload']['max_page']\n",
    "        \n",
    "        for i in range(1, n+1):\n",
    "            new_url = url + '?page=' + str(i)\n",
    "            response = requests.get(new_url)\n",
    "            data = response.json()\n",
    "            page_items = data['payload']['items']\n",
    "            items_list += page_items\n",
    "            \n",
    "        items = pd.DataFrame(items_list)\n",
    "        items.to_csv('items.csv')\n",
    "            \n",
    "    else:\n",
    "        items = pd.read_csv('items.csv', index_col=0)\n",
    "    \n",
    "    return items"
   ]
  },
  {
   "cell_type": "code",
   "execution_count": 54,
   "metadata": {},
   "outputs": [],
   "source": [
    "#matthews rework of my function, not quite working yet\n",
    "def get_whatyouneed(whatyouneed, cached=False):\n",
    "    if cached == False:\n",
    "        listy_list = []\n",
    "        base_url = \"https://python.zach.lol\"\n",
    "        api_thing = base_url + '/api/v1/'\n",
    "        response = requests.get(api_thing + whatyouneed) \n",
    "        data = response.json()\n",
    "        n = data['payload']['max_page']\n",
    "        for i in range(1, n+1):\n",
    "            new_url = api_thing + '?page=' + str(i)\n",
    "            response = requests.get(new_url) \n",
    "            page_items = data['payload'][whatyouneed]\n",
    "            listy_list += page_items\n",
    "        whatyouneed = pd.DataFrame(listy_list)\n",
    "        whatyouneed.to_csv(f'{whatyouneed}.csv')\n",
    "    else:\n",
    "        whatyouneed = pd.read_csv(f'{whatyouneed}.csv', index_col=0)\n",
    "    return whatyouneed"
   ]
  },
  {
   "cell_type": "code",
   "execution_count": 55,
   "metadata": {},
   "outputs": [
    {
     "ename": "OSError",
     "evalue": "[Errno 63] File name too long: '               item_brand  item_id  \\\\\\n0                Riceland        1   \\n1                  Caress        2   \\n2             Earths Best        3   \\n3              Boars Head        4   \\n4          Back To Nature        5   \\n5            Sally Hansen        6   \\n6      Twinings Of London        7   \\n7           Lea & Perrins        8   \\n8            Van De Kamps        9   \\n9                   Ahold       10   \\n10             Honest Tea       11   \\n11                Mueller       12   \\n12  Garnier Nutritioniste       13   \\n13                Pamprin       14   \\n14                  Suave       15   \\n15             Burts Bees       16   \\n16                  Ducal       17   \\n17                 Scotch       18   \\n18                Careone       19   \\n19           Usda Produce       20   \\n20               Riceland        1   \\n21                 Caress        2   \\n22            Earths Best        3   \\n23             Boars Head        4   \\n24         Back To Nature        5   \\n25           Sally Hansen        6   \\n26     Twinings Of London        7   \\n27          Lea & Perrins        8   \\n28           Van De Kamps        9   \\n29                  Ahold       10   \\n30             Honest Tea       11   \\n31                Mueller       12   \\n32  Garnier Nutritioniste       13   \\n33                Pamprin       14   \\n34                  Suave       15   \\n35             Burts Bees       16   \\n36                  Ducal       17   \\n37                 Scotch       18   \\n38                Careone       19   \\n39           Usda Produce       20   \\n40               Riceland        1   \\n41                 Caress        2   \\n42            Earths Best        3   \\n43             Boars Head        4   \\n44         Back To Nature        5   \\n45           Sally Hansen        6   \\n46     Twinings Of London        7   \\n47          Lea & Perrins        8   \\n48           Van De Kamps        9   \\n49                  Ahold       10   \\n50             Honest Tea       11   \\n51                Mueller       12   \\n52  Garnier Nutritioniste       13   \\n53                Pamprin       14   \\n54                  Suave       15   \\n55             Burts Bees       16   \\n56                  Ducal       17   \\n57                 Scotch       18   \\n58                Careone       19   \\n59           Usda Produce       20   \\n\\n                                            item_name  item_price  \\\\\\n0                      Riceland American Jazmine Rice        0.84   \\n1   Caress Velvet Bliss Ultra Silkening Beauty Bar...        6.44   \\n2   Earths Best Organic Fruit Yogurt Smoothie Mixe...        2.43   \\n3    Boars Head Sliced White American Cheese - 120 Ct        3.14   \\n4   Back To Nature Gluten Free White Cheddar Rice ...        2.61   \\n5   Sally Hansen Nail Color Magnetic 903 Silver El...        6.93   \\n6   Twinings Of London Classics Lady Grey Tea - 20 Ct        9.64   \\n7   Lea & Perrins Marinade In-a-bag Cracked Pepper...        1.68   \\n8          Van De Kamps Fillets Beer Battered - 10 Ct        1.79   \\n9                                 Ahold Cocoa Almonds        3.17   \\n10                         Honest Tea Peach White Tea        3.93   \\n11  Mueller Sport Care Basic Support Level Medium ...        8.40   \\n12  Garnier Nutritioniste Moisture Rescue Fresh Cl...        6.47   \\n13  Pamprin Maximum Strength Multi-symptom Menstru...        7.54   \\n14  Suave Naturals Moisturizing Body Wash Creamy T...        9.11   \\n15      Burts Bees Daily Moisturizing Cream Sensitive        5.17   \\n16                            Ducal Refried Red Beans        1.16   \\n17    Scotch Removable Clear Mounting Squares - 35 Ct        4.39   \\n18                     Careone Family Comb Set - 8 Ct        0.74   \\n19                                        Plums Black        5.62   \\n20                     Riceland American Jazmine Rice        0.84   \\n21  Caress Velvet Bliss Ultra Silkening Beauty Bar...        6.44   \\n22  Earths Best Organic Fruit Yogurt Smoothie Mixe...        2.43   \\n23   Boars Head Sliced White American Cheese - 120 Ct        3.14   \\n24  Back To Nature Gluten Free White Cheddar Rice ...        2.61   \\n25  Sally Hansen Nail Color Magnetic 903 Silver El...        6.93   \\n26  Twinings Of London Classics Lady Grey Tea - 20 Ct        9.64   \\n27  Lea & Perrins Marinade In-a-bag Cracked Pepper...        1.68   \\n28         Van De Kamps Fillets Beer Battered - 10 Ct        1.79   \\n29                                Ahold Cocoa Almonds        3.17   \\n30                         Honest Tea Peach White Tea        3.93   \\n31  Mueller Sport Care Basic Support Level Medium ...        8.40   \\n32  Garnier Nutritioniste Moisture Rescue Fresh Cl...        6.47   \\n33  Pamprin Maximum Strength Multi-symptom Menstru...        7.54   \\n34  Suave Naturals Moisturizing Body Wash Creamy T...        9.11   \\n35      Burts Bees Daily Moisturizing Cream Sensitive        5.17   \\n36                            Ducal Refried Red Beans        1.16   \\n37    Scotch Removable Clear Mounting Squares - 35 Ct        4.39   \\n38                     Careone Family Comb Set - 8 Ct        0.74   \\n39                                        Plums Black        5.62   \\n40                     Riceland American Jazmine Rice        0.84   \\n41  Caress Velvet Bliss Ultra Silkening Beauty Bar...        6.44   \\n42  Earths Best Organic Fruit Yogurt Smoothie Mixe...        2.43   \\n43   Boars Head Sliced White American Cheese - 120 Ct        3.14   \\n44  Back To Nature Gluten Free White Cheddar Rice ...        2.61   \\n45  Sally Hansen Nail Color Magnetic 903 Silver El...        6.93   \\n46  Twinings Of London Classics Lady Grey Tea - 20 Ct        9.64   \\n47  Lea & Perrins Marinade In-a-bag Cracked Pepper...        1.68   \\n48         Van De Kamps Fillets Beer Battered - 10 Ct        1.79   \\n49                                Ahold Cocoa Almonds        3.17   \\n50                         Honest Tea Peach White Tea        3.93   \\n51  Mueller Sport Care Basic Support Level Medium ...        8.40   \\n52  Garnier Nutritioniste Moisture Rescue Fresh Cl...        6.47   \\n53  Pamprin Maximum Strength Multi-symptom Menstru...        7.54   \\n54  Suave Naturals Moisturizing Body Wash Creamy T...        9.11   \\n55      Burts Bees Daily Moisturizing Cream Sensitive        5.17   \\n56                            Ducal Refried Red Beans        1.16   \\n57    Scotch Removable Clear Mounting Squares - 35 Ct        4.39   \\n58                     Careone Family Comb Set - 8 Ct        0.74   \\n59                                        Plums Black        5.62   \\n\\n      item_upc12    item_upc14  \\n0    35200264013   35200264013  \\n1    11111065925   11111065925  \\n2    23923330139   23923330139  \\n3   208528800007  208528800007  \\n4   759283100036  759283100036  \\n5    74170388732   74170388732  \\n6    70177154004   70177154004  \\n7    51600080015   51600080015  \\n8    19600923015   19600923015  \\n9   688267141676  688267141676  \\n10  657622604842  657622604842  \\n11   74676640211   74676640211  \\n12  603084234561  603084234561  \\n13   41167300121   41167300121  \\n14   79400847201   79400847201  \\n15  792850014008  792850014008  \\n16   88313590791   88313590791  \\n17   21200725340   21200725340  \\n18   41520035646   41520035646  \\n19  204040000000  204040000000  \\n20   35200264013   35200264013  \\n21   11111065925   11111065925  \\n22   23923330139   23923330139  \\n23  208528800007  208528800007  \\n24  759283100036  759283100036  \\n25   74170388732   74170388732  \\n26   70177154004   70177154004  \\n27   51600080015   51600080015  \\n28   19600923015   19600923015  \\n29  688267141676  688267141676  \\n30  657622604842  657622604842  \\n31   74676640211   74676640211  \\n32  603084234561  603084234561  \\n33   41167300121   41167300121  \\n34   79400847201   79400847201  \\n35  792850014008  792850014008  \\n36   88313590791   88313590791  \\n37   21200725340   21200725340  \\n38   41520035646   41520035646  \\n39  204040000000  204040000000  \\n40   35200264013   35200264013  \\n41   11111065925   11111065925  \\n42   23923330139   23923330139  \\n43  208528800007  208528800007  \\n44  759283100036  759283100036  \\n45   74170388732   74170388732  \\n46   70177154004   70177154004  \\n47   51600080015   51600080015  \\n48   19600923015   19600923015  \\n49  688267141676  688267141676  \\n50  657622604842  657622604842  \\n51   74676640211   74676640211  \\n52  603084234561  603084234561  \\n53   41167300121   41167300121  \\n54   79400847201   79400847201  \\n55  792850014008  792850014008  \\n56   88313590791   88313590791  \\n57   21200725340   21200725340  \\n58   41520035646   41520035646  \\n59  204040000000  204040000000  .csv'",
     "output_type": "error",
     "traceback": [
      "\u001b[0;31m---------------------------------------------------------------------------\u001b[0m",
      "\u001b[0;31mOSError\u001b[0m                                   Traceback (most recent call last)",
      "\u001b[0;32m<ipython-input-55-3a1d6dde9f6f>\u001b[0m in \u001b[0;36m<module>\u001b[0;34m\u001b[0m\n\u001b[0;32m----> 1\u001b[0;31m \u001b[0mitemz\u001b[0m \u001b[0;34m=\u001b[0m \u001b[0mget_whatyouneed\u001b[0m\u001b[0;34m(\u001b[0m\u001b[0;34m'items'\u001b[0m\u001b[0;34m,\u001b[0m \u001b[0mcached\u001b[0m\u001b[0;34m=\u001b[0m\u001b[0;32mFalse\u001b[0m\u001b[0;34m)\u001b[0m\u001b[0;34m\u001b[0m\u001b[0;34m\u001b[0m\u001b[0m\n\u001b[0m\u001b[1;32m      2\u001b[0m \u001b[0mitemz\u001b[0m\u001b[0;34m.\u001b[0m\u001b[0mhead\u001b[0m\u001b[0;34m(\u001b[0m\u001b[0;34m)\u001b[0m\u001b[0;34m\u001b[0m\u001b[0;34m\u001b[0m\u001b[0m\n",
      "\u001b[0;32m<ipython-input-54-321f9c3e6621>\u001b[0m in \u001b[0;36mget_whatyouneed\u001b[0;34m(whatyouneed, cached)\u001b[0m\n\u001b[1;32m     13\u001b[0m             \u001b[0mlisty_list\u001b[0m \u001b[0;34m+=\u001b[0m \u001b[0mpage_items\u001b[0m\u001b[0;34m\u001b[0m\u001b[0;34m\u001b[0m\u001b[0m\n\u001b[1;32m     14\u001b[0m         \u001b[0mwhatyouneed\u001b[0m \u001b[0;34m=\u001b[0m \u001b[0mpd\u001b[0m\u001b[0;34m.\u001b[0m\u001b[0mDataFrame\u001b[0m\u001b[0;34m(\u001b[0m\u001b[0mlisty_list\u001b[0m\u001b[0;34m)\u001b[0m\u001b[0;34m\u001b[0m\u001b[0;34m\u001b[0m\u001b[0m\n\u001b[0;32m---> 15\u001b[0;31m         \u001b[0mwhatyouneed\u001b[0m\u001b[0;34m.\u001b[0m\u001b[0mto_csv\u001b[0m\u001b[0;34m(\u001b[0m\u001b[0;34mf'{whatyouneed}.csv'\u001b[0m\u001b[0;34m)\u001b[0m\u001b[0;34m\u001b[0m\u001b[0;34m\u001b[0m\u001b[0m\n\u001b[0m\u001b[1;32m     16\u001b[0m     \u001b[0;32melse\u001b[0m\u001b[0;34m:\u001b[0m\u001b[0;34m\u001b[0m\u001b[0;34m\u001b[0m\u001b[0m\n\u001b[1;32m     17\u001b[0m         \u001b[0mwhatyouneed\u001b[0m \u001b[0;34m=\u001b[0m \u001b[0mpd\u001b[0m\u001b[0;34m.\u001b[0m\u001b[0mread_csv\u001b[0m\u001b[0;34m(\u001b[0m\u001b[0;34mf'{whatyouneed}.csv'\u001b[0m\u001b[0;34m,\u001b[0m \u001b[0mindex_col\u001b[0m\u001b[0;34m=\u001b[0m\u001b[0;36m0\u001b[0m\u001b[0;34m)\u001b[0m\u001b[0;34m\u001b[0m\u001b[0;34m\u001b[0m\u001b[0m\n",
      "\u001b[0;32m/usr/local/anaconda3/lib/python3.8/site-packages/pandas/core/generic.py\u001b[0m in \u001b[0;36mto_csv\u001b[0;34m(self, path_or_buf, sep, na_rep, float_format, columns, header, index, index_label, mode, encoding, compression, quoting, quotechar, line_terminator, chunksize, date_format, doublequote, escapechar, decimal, errors)\u001b[0m\n\u001b[1;32m   3168\u001b[0m             \u001b[0mdecimal\u001b[0m\u001b[0;34m=\u001b[0m\u001b[0mdecimal\u001b[0m\u001b[0;34m,\u001b[0m\u001b[0;34m\u001b[0m\u001b[0;34m\u001b[0m\u001b[0m\n\u001b[1;32m   3169\u001b[0m         )\n\u001b[0;32m-> 3170\u001b[0;31m         \u001b[0mformatter\u001b[0m\u001b[0;34m.\u001b[0m\u001b[0msave\u001b[0m\u001b[0;34m(\u001b[0m\u001b[0;34m)\u001b[0m\u001b[0;34m\u001b[0m\u001b[0;34m\u001b[0m\u001b[0m\n\u001b[0m\u001b[1;32m   3171\u001b[0m \u001b[0;34m\u001b[0m\u001b[0m\n\u001b[1;32m   3172\u001b[0m         \u001b[0;32mif\u001b[0m \u001b[0mpath_or_buf\u001b[0m \u001b[0;32mis\u001b[0m \u001b[0;32mNone\u001b[0m\u001b[0;34m:\u001b[0m\u001b[0;34m\u001b[0m\u001b[0;34m\u001b[0m\u001b[0m\n",
      "\u001b[0;32m/usr/local/anaconda3/lib/python3.8/site-packages/pandas/io/formats/csvs.py\u001b[0m in \u001b[0;36msave\u001b[0;34m(self)\u001b[0m\n\u001b[1;32m    183\u001b[0m             \u001b[0mclose\u001b[0m \u001b[0;34m=\u001b[0m \u001b[0;32mFalse\u001b[0m\u001b[0;34m\u001b[0m\u001b[0;34m\u001b[0m\u001b[0m\n\u001b[1;32m    184\u001b[0m         \u001b[0;32melse\u001b[0m\u001b[0;34m:\u001b[0m\u001b[0;34m\u001b[0m\u001b[0;34m\u001b[0m\u001b[0m\n\u001b[0;32m--> 185\u001b[0;31m             f, handles = get_handle(\n\u001b[0m\u001b[1;32m    186\u001b[0m                 \u001b[0mself\u001b[0m\u001b[0;34m.\u001b[0m\u001b[0mpath_or_buf\u001b[0m\u001b[0;34m,\u001b[0m\u001b[0;34m\u001b[0m\u001b[0;34m\u001b[0m\u001b[0m\n\u001b[1;32m    187\u001b[0m                 \u001b[0mself\u001b[0m\u001b[0;34m.\u001b[0m\u001b[0mmode\u001b[0m\u001b[0;34m,\u001b[0m\u001b[0;34m\u001b[0m\u001b[0;34m\u001b[0m\u001b[0m\n",
      "\u001b[0;32m/usr/local/anaconda3/lib/python3.8/site-packages/pandas/io/common.py\u001b[0m in \u001b[0;36mget_handle\u001b[0;34m(path_or_buf, mode, encoding, compression, memory_map, is_text, errors)\u001b[0m\n\u001b[1;32m    491\u001b[0m         \u001b[0;32mif\u001b[0m \u001b[0mencoding\u001b[0m\u001b[0;34m:\u001b[0m\u001b[0;34m\u001b[0m\u001b[0;34m\u001b[0m\u001b[0m\n\u001b[1;32m    492\u001b[0m             \u001b[0;31m# Encoding\u001b[0m\u001b[0;34m\u001b[0m\u001b[0;34m\u001b[0m\u001b[0;34m\u001b[0m\u001b[0m\n\u001b[0;32m--> 493\u001b[0;31m             \u001b[0mf\u001b[0m \u001b[0;34m=\u001b[0m \u001b[0mopen\u001b[0m\u001b[0;34m(\u001b[0m\u001b[0mpath_or_buf\u001b[0m\u001b[0;34m,\u001b[0m \u001b[0mmode\u001b[0m\u001b[0;34m,\u001b[0m \u001b[0mencoding\u001b[0m\u001b[0;34m=\u001b[0m\u001b[0mencoding\u001b[0m\u001b[0;34m,\u001b[0m \u001b[0merrors\u001b[0m\u001b[0;34m=\u001b[0m\u001b[0merrors\u001b[0m\u001b[0;34m,\u001b[0m \u001b[0mnewline\u001b[0m\u001b[0;34m=\u001b[0m\u001b[0;34m\"\"\u001b[0m\u001b[0;34m)\u001b[0m\u001b[0;34m\u001b[0m\u001b[0;34m\u001b[0m\u001b[0m\n\u001b[0m\u001b[1;32m    494\u001b[0m         \u001b[0;32melif\u001b[0m \u001b[0mis_text\u001b[0m\u001b[0;34m:\u001b[0m\u001b[0;34m\u001b[0m\u001b[0;34m\u001b[0m\u001b[0m\n\u001b[1;32m    495\u001b[0m             \u001b[0;31m# No explicit encoding\u001b[0m\u001b[0;34m\u001b[0m\u001b[0;34m\u001b[0m\u001b[0;34m\u001b[0m\u001b[0m\n",
      "\u001b[0;31mOSError\u001b[0m: [Errno 63] File name too long: '               item_brand  item_id  \\\\\\n0                Riceland        1   \\n1                  Caress        2   \\n2             Earths Best        3   \\n3              Boars Head        4   \\n4          Back To Nature        5   \\n5            Sally Hansen        6   \\n6      Twinings Of London        7   \\n7           Lea & Perrins        8   \\n8            Van De Kamps        9   \\n9                   Ahold       10   \\n10             Honest Tea       11   \\n11                Mueller       12   \\n12  Garnier Nutritioniste       13   \\n13                Pamprin       14   \\n14                  Suave       15   \\n15             Burts Bees       16   \\n16                  Ducal       17   \\n17                 Scotch       18   \\n18                Careone       19   \\n19           Usda Produce       20   \\n20               Riceland        1   \\n21                 Caress        2   \\n22            Earths Best        3   \\n23             Boars Head        4   \\n24         Back To Nature        5   \\n25           Sally Hansen        6   \\n26     Twinings Of London        7   \\n27          Lea & Perrins        8   \\n28           Van De Kamps        9   \\n29                  Ahold       10   \\n30             Honest Tea       11   \\n31                Mueller       12   \\n32  Garnier Nutritioniste       13   \\n33                Pamprin       14   \\n34                  Suave       15   \\n35             Burts Bees       16   \\n36                  Ducal       17   \\n37                 Scotch       18   \\n38                Careone       19   \\n39           Usda Produce       20   \\n40               Riceland        1   \\n41                 Caress        2   \\n42            Earths Best        3   \\n43             Boars Head        4   \\n44         Back To Nature        5   \\n45           Sally Hansen        6   \\n46     Twinings Of London        7   \\n47          Lea & Perrins        8   \\n48           Van De Kamps        9   \\n49                  Ahold       10   \\n50             Honest Tea       11   \\n51                Mueller       12   \\n52  Garnier Nutritioniste       13   \\n53                Pamprin       14   \\n54                  Suave       15   \\n55             Burts Bees       16   \\n56                  Ducal       17   \\n57                 Scotch       18   \\n58                Careone       19   \\n59           Usda Produce       20   \\n\\n                                            item_name  item_price  \\\\\\n0                      Riceland American Jazmine Rice        0.84   \\n1   Caress Velvet Bliss Ultra Silkening Beauty Bar...        6.44   \\n2   Earths Best Organic Fruit Yogurt Smoothie Mixe...        2.43   \\n3    Boars Head Sliced White American Cheese - 120 Ct        3.14   \\n4   Back To Nature Gluten Free White Cheddar Rice ...        2.61   \\n5   Sally Hansen Nail Color Magnetic 903 Silver El...        6.93   \\n6   Twinings Of London Classics Lady Grey Tea - 20 Ct        9.64   \\n7   Lea & Perrins Marinade In-a-bag Cracked Pepper...        1.68   \\n8          Van De Kamps Fillets Beer Battered - 10 Ct        1.79   \\n9                                 Ahold Cocoa Almonds        3.17   \\n10                         Honest Tea Peach White Tea        3.93   \\n11  Mueller Sport Care Basic Support Level Medium ...        8.40   \\n12  Garnier Nutritioniste Moisture Rescue Fresh Cl...        6.47   \\n13  Pamprin Maximum Strength Multi-symptom Menstru...        7.54   \\n14  Suave Naturals Moisturizing Body Wash Creamy T...        9.11   \\n15      Burts Bees Daily Moisturizing Cream Sensitive        5.17   \\n16                            Ducal Refried Red Beans        1.16   \\n17    Scotch Removable Clear Mounting Squares - 35 Ct        4.39   \\n18                     Careone Family Comb Set - 8 Ct        0.74   \\n19                                        Plums Black        5.62   \\n20                     Riceland American Jazmine Rice        0.84   \\n21  Caress Velvet Bliss Ultra Silkening Beauty Bar...        6.44   \\n22  Earths Best Organic Fruit Yogurt Smoothie Mixe...        2.43   \\n23   Boars Head Sliced White American Cheese - 120 Ct        3.14   \\n24  Back To Nature Gluten Free White Cheddar Rice ...        2.61   \\n25  Sally Hansen Nail Color Magnetic 903 Silver El...        6.93   \\n26  Twinings Of London Classics Lady Grey Tea - 20 Ct        9.64   \\n27  Lea & Perrins Marinade In-a-bag Cracked Pepper...        1.68   \\n28         Van De Kamps Fillets Beer Battered - 10 Ct        1.79   \\n29                                Ahold Cocoa Almonds        3.17   \\n30                         Honest Tea Peach White Tea        3.93   \\n31  Mueller Sport Care Basic Support Level Medium ...        8.40   \\n32  Garnier Nutritioniste Moisture Rescue Fresh Cl...        6.47   \\n33  Pamprin Maximum Strength Multi-symptom Menstru...        7.54   \\n34  Suave Naturals Moisturizing Body Wash Creamy T...        9.11   \\n35      Burts Bees Daily Moisturizing Cream Sensitive        5.17   \\n36                            Ducal Refried Red Beans        1.16   \\n37    Scotch Removable Clear Mounting Squares - 35 Ct        4.39   \\n38                     Careone Family Comb Set - 8 Ct        0.74   \\n39                                        Plums Black        5.62   \\n40                     Riceland American Jazmine Rice        0.84   \\n41  Caress Velvet Bliss Ultra Silkening Beauty Bar...        6.44   \\n42  Earths Best Organic Fruit Yogurt Smoothie Mixe...        2.43   \\n43   Boars Head Sliced White American Cheese - 120 Ct        3.14   \\n44  Back To Nature Gluten Free White Cheddar Rice ...        2.61   \\n45  Sally Hansen Nail Color Magnetic 903 Silver El...        6.93   \\n46  Twinings Of London Classics Lady Grey Tea - 20 Ct        9.64   \\n47  Lea & Perrins Marinade In-a-bag Cracked Pepper...        1.68   \\n48         Van De Kamps Fillets Beer Battered - 10 Ct        1.79   \\n49                                Ahold Cocoa Almonds        3.17   \\n50                         Honest Tea Peach White Tea        3.93   \\n51  Mueller Sport Care Basic Support Level Medium ...        8.40   \\n52  Garnier Nutritioniste Moisture Rescue Fresh Cl...        6.47   \\n53  Pamprin Maximum Strength Multi-symptom Menstru...        7.54   \\n54  Suave Naturals Moisturizing Body Wash Creamy T...        9.11   \\n55      Burts Bees Daily Moisturizing Cream Sensitive        5.17   \\n56                            Ducal Refried Red Beans        1.16   \\n57    Scotch Removable Clear Mounting Squares - 35 Ct        4.39   \\n58                     Careone Family Comb Set - 8 Ct        0.74   \\n59                                        Plums Black        5.62   \\n\\n      item_upc12    item_upc14  \\n0    35200264013   35200264013  \\n1    11111065925   11111065925  \\n2    23923330139   23923330139  \\n3   208528800007  208528800007  \\n4   759283100036  759283100036  \\n5    74170388732   74170388732  \\n6    70177154004   70177154004  \\n7    51600080015   51600080015  \\n8    19600923015   19600923015  \\n9   688267141676  688267141676  \\n10  657622604842  657622604842  \\n11   74676640211   74676640211  \\n12  603084234561  603084234561  \\n13   41167300121   41167300121  \\n14   79400847201   79400847201  \\n15  792850014008  792850014008  \\n16   88313590791   88313590791  \\n17   21200725340   21200725340  \\n18   41520035646   41520035646  \\n19  204040000000  204040000000  \\n20   35200264013   35200264013  \\n21   11111065925   11111065925  \\n22   23923330139   23923330139  \\n23  208528800007  208528800007  \\n24  759283100036  759283100036  \\n25   74170388732   74170388732  \\n26   70177154004   70177154004  \\n27   51600080015   51600080015  \\n28   19600923015   19600923015  \\n29  688267141676  688267141676  \\n30  657622604842  657622604842  \\n31   74676640211   74676640211  \\n32  603084234561  603084234561  \\n33   41167300121   41167300121  \\n34   79400847201   79400847201  \\n35  792850014008  792850014008  \\n36   88313590791   88313590791  \\n37   21200725340   21200725340  \\n38   41520035646   41520035646  \\n39  204040000000  204040000000  \\n40   35200264013   35200264013  \\n41   11111065925   11111065925  \\n42   23923330139   23923330139  \\n43  208528800007  208528800007  \\n44  759283100036  759283100036  \\n45   74170388732   74170388732  \\n46   70177154004   70177154004  \\n47   51600080015   51600080015  \\n48   19600923015   19600923015  \\n49  688267141676  688267141676  \\n50  657622604842  657622604842  \\n51   74676640211   74676640211  \\n52  603084234561  603084234561  \\n53   41167300121   41167300121  \\n54   79400847201   79400847201  \\n55  792850014008  792850014008  \\n56   88313590791   88313590791  \\n57   21200725340   21200725340  \\n58   41520035646   41520035646  \\n59  204040000000  204040000000  .csv'"
     ]
    }
   ],
   "source": [
    "itemz = get_whatyouneed('items', cached=False)\n",
    "itemz.head()"
   ]
  },
  {
   "cell_type": "code",
   "execution_count": null,
   "metadata": {},
   "outputs": [],
   "source": []
  }
 ],
 "metadata": {
  "kernelspec": {
   "display_name": "Python 3",
   "language": "python",
   "name": "python3"
  },
  "language_info": {
   "codemirror_mode": {
    "name": "ipython",
    "version": 3
   },
   "file_extension": ".py",
   "mimetype": "text/x-python",
   "name": "python",
   "nbconvert_exporter": "python",
   "pygments_lexer": "ipython3",
   "version": "3.8.5"
  }
 },
 "nbformat": 4,
 "nbformat_minor": 4
}
